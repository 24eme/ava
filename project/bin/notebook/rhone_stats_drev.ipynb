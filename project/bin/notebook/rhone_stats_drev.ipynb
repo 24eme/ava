{
 "cells": [
  {
   "cell_type": "code",
   "execution_count": null,
   "id": "threaded-cornwall",
   "metadata": {},
   "outputs": [],
   "source": [
    "import pandas as pd\n",
    "drev = pd.read_csv(\"../../web/exports/drev.csv\", encoding=\"iso8859_15\", delimiter=\";\", decimal=\",\", \n",
    "                   dtype={'CVI Opérateur': 'str', 'Siret Opérateur': 'str', 'Identifiant': 'str', \n",
    "                          'Produit (millesime)': 'str', 'Date Rev': 'str', 'Destination': 'str', \n",
    "                          'Campagne': 'str', 'Numéro du lot': 'str', \n",
    "                          'Code postal Opérateur': 'str'}, low_memory=False)\n",
    "#drev.columns"
   ]
  },
  {
   "cell_type": "code",
   "execution_count": null,
   "id": "satisfied-diagram",
   "metadata": {},
   "outputs": [],
   "source": [
    "def createCSVStatByCampagne(campagne,drev):\n",
    "    drev = drev[drev['Campagne'] == campagne][['Campagne', 'Appellation','Appellation Libelle','Lieu','Lieu Libelle','Couleur', 'Produit', 'Superficie revendiquée', 'Volume revendiqué net total', 'Volume revendiqué issu du vci']]\n",
    "    drev['Lieu Libelle'] = drev['Lieu Libelle'].fillna(\"DEFAUT\")\n",
    "    \n",
    "    drev.loc[drev.Appellation != 'CVG','Lieu'] = 'DEFAUT' \n",
    "    drev.loc[drev.Appellation != 'CVG','Lieu Libelle'] = 'DEFAUT' \n",
    "    \n",
    "   \n",
    "    drev_groupby = drev.groupby(['Couleur','Appellation','Appellation Libelle','Lieu','Lieu Libelle']).sum()\n",
    "    \n",
    "    drev_total = drev.groupby(['Appellation','Appellation Libelle', 'Lieu','Lieu Libelle']).sum()\n",
    "    drev_total['Couleur'] = 'total'\n",
    "    \n",
    "\n",
    "    drev_groupby = pd.concat([drev_groupby, drev_total.reset_index().set_index(['Couleur','Appellation','Appellation Libelle','Lieu','Lieu Libelle'])])\n",
    "    \n",
    "    drev_groupby['Rendement'] = drev_groupby['Volume revendiqué net total'] / drev_groupby['Superficie revendiquée']\n",
    "   \n",
    "    drev_appellation_lieu_couleur = drev_groupby[['Superficie revendiquée', 'Volume revendiqué net total', 'Volume revendiqué issu du vci', 'Rendement']].reset_index().pivot_table(columns=['Couleur'], index=['Appellation','Appellation Libelle','Lieu','Lieu Libelle']).fillna(0)\n",
    "    #, values=['Superficie revendiquée', 'Volume revendiqué net total', 'Volume revendiqué issu du vci', 'Rendement']\n",
    "    \n",
    "    drev_appellation_lieu_couleur = drev_appellation_lieu_couleur.reset_index()\n",
    "    \n",
    "    #print(drev_appellation_lieu_couleur.columns.tolist())\n",
    "    #columns = [('Appellation', ''), ('Appellation Libelle', ''), ('Lieu', ''), ('Lieu Libelle', ''), ('Rendement', 'blanc'), ('Rendement', 'rose'), ('Rendement', 'rouge'), ('Rendement', 'total'), ('Superficie revendiquée', 'blanc'), ('Superficie revendiquée', 'rose'), ('Superficie revendiquée', 'rouge'), ('Superficie revendiquée', 'total'), ('Volume revendiqué issu du vci', 'blanc'), ('Volume revendiqué issu du vci', 'rose'), ('Volume revendiqué issu du vci', 'rouge'), ('Volume revendiqué issu du vci', 'total'), ('Volume revendiqué net total', 'blanc'), ('Volume revendiqué net total', 'rose'), ('Volume revendiqué net total', 'rouge'), ('Volume revendiqué net total', 'total')]\n",
    "    \n",
    "    columns = [('Appellation', ''), ('Appellation Libelle', ''), ('Lieu', ''),('Lieu Libelle', ''),('Superficie revendiquée', 'rouge'), ('Superficie revendiquée', 'rose'), ('Superficie revendiquée', 'blanc'), ('Superficie revendiquée', 'total'), ('Volume revendiqué net total', 'rouge'), ('Volume revendiqué net total', 'rose'), ('Volume revendiqué net total', 'blanc'), ('Volume revendiqué net total', 'total'), ('Volume revendiqué issu du vci', 'rouge'), ('Volume revendiqué issu du vci', 'rose'), ('Volume revendiqué issu du vci', 'blanc'), ('Volume revendiqué issu du vci', 'total'), ('Rendement', 'rouge'), ('Rendement', 'rose'), ('Rendement', 'blanc'), ('Rendement', 'total')]\n",
    "    \n",
    "    drev_appellation_lieu_couleur = drev_appellation_lieu_couleur[columns]\n",
    "    \n",
    "    drev_appellation_lieu_couleur.to_csv(\"../../web/exports/stats/stats_drev_\"+ campagne +\".csv\", encoding=\"iso8859_15\", sep=\";\", index=False, decimal=\",\",header=['Appellation','Appellation Libelle','Lieu','Lieu Libelle','Superficie revendiquée rouge','Superficie revendiquée rose','Superficie revendiquée blanc','Superficie revendiquée total','Volume revendiqué net total rouge','Volume revendiqué net total rose','Volume revendiqué net total blanc','Volume revendiqué net total total','Volume revendiqué issu du vci rouge','Volume revendiqué issu du vci rose','Volume revendiqué issu du vci blanc','Volume revendiqué issu du vci total','Rendement rouge','Rendement rose','Rendement blanc','Rendement total'])\n",
    "    "
   ]
  },
  {
   "cell_type": "code",
   "execution_count": null,
   "id": "solved-consideration",
   "metadata": {},
   "outputs": [],
   "source": [
    "createCSVStatByCampagne(drev[\"Campagne\"].unique()[-1],drev)\n",
    "createCSVStatByCampagne(drev[\"Campagne\"].unique()[-2],drev)"
   ]
  }
 ],
 "metadata": {
  "kernelspec": {
   "display_name": "Python 3",
   "language": "python",
   "name": "python3"
  },
  "language_info": {
   "codemirror_mode": {
    "name": "ipython",
    "version": 3
   },
   "file_extension": ".py",
   "mimetype": "text/x-python",
   "name": "python",
   "nbconvert_exporter": "python",
   "pygments_lexer": "ipython3",
   "version": "3.9.2"
  }
 },
 "nbformat": 4,
 "nbformat_minor": 5
}
