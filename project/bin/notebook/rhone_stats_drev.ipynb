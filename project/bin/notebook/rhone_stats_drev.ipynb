{
 "cells": [
  {
   "cell_type": "code",
   "execution_count": null,
   "id": "threaded-cornwall",
   "metadata": {},
   "outputs": [],
   "source": [
    "import pandas as pd\n",
    "drev = pd.read_csv(\"../../web/exports/drev.csv\", encoding=\"iso8859_15\", delimiter=\";\", decimal=\",\", \n",
    "                   dtype={'CVI Opérateur': 'str', 'Siret Opérateur': 'str', 'Identifiant': 'str', \n",
    "                          'Produit (millesime)': 'str', 'Date Rev': 'str', 'Destination': 'str', \n",
    "                          'Campagne': 'str', 'Numéro du lot': 'str', \n",
    "                          'Code postal Opérateur': 'str'}, low_memory=False)\n",
    "#drev.columns"
   ]
  },
  {
   "cell_type": "code",
   "execution_count": null,
   "id": "adaptive-philip",
   "metadata": {
    "scrolled": true
   },
   "outputs": [],
   "source": [
    "drev_2020 = drev[drev['Campagne'] == '2020'][['Campagne', 'Appellation','Appellation Libelle','Lieu','Lieu Libelle','Couleur', 'Produit', 'Superficie revendiqué', 'Volume revendiqué net total', 'Volume revendiqué issu du vci']]\n",
    "#drev_2020\n",
    "\n",
    "drev_2020['Lieu Libelle'] = drev_2020['Lieu Libelle'].fillna(\"DEFAUT\")\n"
   ]
  },
  {
   "cell_type": "code",
   "execution_count": null,
   "id": "anonymous-result",
   "metadata": {},
   "outputs": [],
   "source": [
    "drev_2020_groupby = drev_2020.groupby(['Couleur','Appellation','Appellation Libelle','Lieu','Lieu Libelle']).sum()\n"
   ]
  },
  {
   "cell_type": "code",
   "execution_count": null,
   "id": "imported-tattoo",
   "metadata": {},
   "outputs": [],
   "source": [
    "#drev_2020_groupby = drev_2020.groupby(['Couleur','Appellation','Lieu']).sum()\n",
    "drev_total = drev_2020.groupby(['Appellation','Appellation Libelle', 'Lieu','Lieu Libelle']).sum()\n",
    "drev_total['Couleur'] = 'total'\n",
    "\n",
    "drev_2020_groupby = pd.concat([drev_2020_groupby, drev_total.reset_index().set_index(['Couleur','Appellation','Appellation Libelle','Lieu','Lieu Libelle'])])\n",
    "drev_2020_groupby['Rendement'] = drev_2020_groupby['Volume revendiqué net total'] / drev_2020_groupby['Superficie revendiqué']"
   ]
  },
  {
   "cell_type": "code",
   "execution_count": null,
   "id": "comparative-kazakhstan",
   "metadata": {
    "scrolled": true
   },
   "outputs": [],
   "source": [
    "drev_2020_appellation_lieu_couleur = drev_2020_groupby[['Superficie revendiqué', 'Volume revendiqué net total', 'Volume revendiqué issu du vci', 'Rendement']].reset_index().pivot(columns=['Couleur'], index=['Appellation','Appellation Libelle', 'Lieu','Lieu Libelle']).fillna(0)\n",
    "\n",
    "#print(drev_2020_appellation_lieu_couleur.columns.tolist())\n",
    "columns = [('Superficie revendiqué', 'rouge'), ('Superficie revendiqué', 'rose'), ('Superficie revendiqué', 'blanc'), ('Superficie revendiqué', 'total'), ('Volume revendiqué net total', 'rouge'), ('Volume revendiqué net total', 'rose'), ('Volume revendiqué net total', 'blanc'), ('Volume revendiqué net total', 'total'), ('Volume revendiqué issu du vci', 'rouge'), ('Volume revendiqué issu du vci', 'rose'), ('Volume revendiqué issu du vci', 'blanc'), ('Volume revendiqué issu du vci', 'total'), ('Rendement', 'rouge'), ('Rendement', 'rose'), ('Rendement', 'blanc'), ('Rendement', 'total')]\n",
    "drev_2020_appellation_lieu_couleur = drev_2020_appellation_lieu_couleur[columns]"
   ]
  },
  {
   "cell_type": "code",
   "execution_count": null,
   "id": "compatible-basics",
   "metadata": {},
   "outputs": [],
   "source": [
    "drev_2020_appellation_lieu_couleur.reset_index().to_csv(\"../../web/exports/stats_drev_2020.csv\", encoding=\"iso8859_15\", sep=\";\", index=False, decimal=\",\")"
   ]
  },
  {
   "cell_type": "code",
   "execution_count": null,
   "id": "satisfied-diagram",
   "metadata": {},
   "outputs": [],
   "source": []
  },
  {
   "cell_type": "code",
   "execution_count": null,
   "id": "solved-consideration",
   "metadata": {},
   "outputs": [],
   "source": []
  }
 ],
 "metadata": {
  "kernelspec": {
   "display_name": "Python 3",
   "language": "python",
   "name": "python3"
  },
  "language_info": {
   "codemirror_mode": {
    "name": "ipython",
    "version": 3
   },
   "file_extension": ".py",
   "mimetype": "text/x-python",
   "name": "python",
   "nbconvert_exporter": "python",
   "pygments_lexer": "ipython3",
   "version": "3.9.2"
  }
 },
 "nbformat": 4,
 "nbformat_minor": 5
}
