{
 "cells": [
  {
   "cell_type": "code",
   "execution_count": null,
   "id": "threaded-cornwall",
   "metadata": {},
   "outputs": [],
   "source": [
    "import pandas as pd\n",
    "drev = pd.read_csv(\"../../web/exports/drev.csv\", encoding=\"iso8859_15\", delimiter=\";\", decimal=\",\", \n",
    "                   dtype={'CVI Opérateur': 'str', 'Siret Opérateur': 'str', 'Identifiant': 'str', \n",
    "                          'Produit (millesime)': 'str', 'Date Rev': 'str', 'Destination': 'str', \n",
    "                          'Campagne': 'str', 'Numéro du lot': 'str', \n",
    "                          'Code postal Opérateur': 'str'}, low_memory=False)\n",
    "#drev.columns"
   ]
  },
  {
   "cell_type": "code",
   "execution_count": null,
   "id": "adaptive-philip",
   "metadata": {
    "scrolled": true
   },
   "outputs": [],
   "source": [
    "drev_2020 = drev[drev['Campagne'] == '2020'][['Campagne', 'Appellation','Lieu', 'Couleur', 'Produit', 'Superficie revendiqué', 'Volume revendiqué net total', 'Volume revendiqué issu du vci']]\n",
    "#drev_2020"
   ]
  },
  {
   "cell_type": "code",
   "execution_count": null,
   "id": "imported-tattoo",
   "metadata": {},
   "outputs": [],
   "source": [
    "drev_2020_groupby = drev_2020.groupby(['Couleur','Appellation', 'Lieu']).sum()\n",
    "drev_total = drev_2020.groupby(['Appellation', 'Lieu']).sum()\n",
    "drev_total['Couleur'] = 'total'\n",
    "\n",
    "drev_2020_groupby = pd.concat([drev_2020_groupby, drev_total.reset_index().set_index(['Couleur','Appellation', 'Lieu'])])\n",
    "drev_2020_groupby['Rendement'] = drev_2020_groupby['Volume revendiqué net total'] / drev_2020_groupby['Superficie revendiqué']"
   ]
  },
  {
   "cell_type": "code",
   "execution_count": null,
   "id": "comparative-kazakhstan",
   "metadata": {
    "scrolled": true
   },
   "outputs": [],
   "source": [
    "drev_2020_appellation_lieu_couleur = drev_2020_groupby[['Superficie revendiqué', 'Volume revendiqué net total', 'Volume revendiqué issu du vci', 'Rendement']].reset_index().pivot(columns=['Couleur'], index=['Appellation', 'Lieu']).fillna(0)\n",
    "#drev_2020_appellation_lieu_couleur"
   ]
  },
  {
   "cell_type": "code",
   "execution_count": null,
   "id": "compatible-basics",
   "metadata": {},
   "outputs": [],
   "source": [
    "drev_2020_appellation_lieu_couleur.reset_index().to_csv(\"../../web/exports/stats_drev_2020.csv\", encoding=\"iso8859_15\", sep=\";\", index=False, decimal=\",\")"
   ]
  }
 ],
 "metadata": {
  "kernelspec": {
   "display_name": "Python 3",
   "language": "python",
   "name": "python3"
  },
  "language_info": {
   "codemirror_mode": {
    "name": "ipython",
    "version": 3
   },
   "file_extension": ".py",
   "mimetype": "text/x-python",
   "name": "python",
   "nbconvert_exporter": "python",
   "pygments_lexer": "ipython3",
   "version": "3.9.2"
  }
 },
 "nbformat": 4,
 "nbformat_minor": 5
}
