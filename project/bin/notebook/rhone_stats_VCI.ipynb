{
 "cells": [
  {
   "cell_type": "code",
   "execution_count": 55,
   "metadata": {},
   "outputs": [],
   "source": [
    "import pandas as pd\n",
    "drev = pd.read_csv(\"../../web/exports/drev.csv\", encoding=\"iso8859_15\", delimiter=\";\", decimal=\",\",dtype={'CVI Opérateur': 'str', 'Identifiant': 'str','Appellation': 'str','Campagne': 'str'}, low_memory=False)\n",
    "\n",
    "drev = drev[['Appellation','Campagne','VCI Stock précédent', 'VCI Destruction', 'VCI Complément', 'VCI Substitution', 'VCI Rafraichi', 'VCI Constitué', 'VCI Stock final']]\n",
    "drev = drev[drev['Campagne'] == '2020'].fillna(0) \n",
    "drev = drev.groupby(['Appellation']).sum() "
   ]
  },
  {
   "cell_type": "code",
   "execution_count": 56,
   "metadata": {},
   "outputs": [
    {
     "data": {
      "text/html": [
       "<div>\n",
       "<style scoped>\n",
       "    .dataframe tbody tr th:only-of-type {\n",
       "        vertical-align: middle;\n",
       "    }\n",
       "\n",
       "    .dataframe tbody tr th {\n",
       "        vertical-align: top;\n",
       "    }\n",
       "\n",
       "    .dataframe thead th {\n",
       "        text-align: right;\n",
       "    }\n",
       "</style>\n",
       "<table border=\"1\" class=\"dataframe\">\n",
       "  <thead>\n",
       "    <tr style=\"text-align: right;\">\n",
       "      <th></th>\n",
       "      <th>VCI Stock précédent</th>\n",
       "      <th>VCI Destruction</th>\n",
       "      <th>VCI Complément</th>\n",
       "      <th>VCI Substitution</th>\n",
       "      <th>VCI Rafraichi</th>\n",
       "      <th>VCI Constitué</th>\n",
       "      <th>VCI Stock final</th>\n",
       "    </tr>\n",
       "    <tr>\n",
       "      <th>Appellation</th>\n",
       "      <th></th>\n",
       "      <th></th>\n",
       "      <th></th>\n",
       "      <th></th>\n",
       "      <th></th>\n",
       "      <th></th>\n",
       "      <th></th>\n",
       "    </tr>\n",
       "  </thead>\n",
       "  <tbody>\n",
       "    <tr>\n",
       "      <th>CDR</th>\n",
       "      <td>48767.03</td>\n",
       "      <td>465.33</td>\n",
       "      <td>14119.40</td>\n",
       "      <td>0.0</td>\n",
       "      <td>34182.30</td>\n",
       "      <td>17386.40</td>\n",
       "      <td>51568.70</td>\n",
       "    </tr>\n",
       "    <tr>\n",
       "      <th>CVG</th>\n",
       "      <td>3387.45</td>\n",
       "      <td>100.60</td>\n",
       "      <td>831.07</td>\n",
       "      <td>0.0</td>\n",
       "      <td>2455.78</td>\n",
       "      <td>2894.58</td>\n",
       "      <td>5350.36</td>\n",
       "    </tr>\n",
       "    <tr>\n",
       "      <th>Total</th>\n",
       "      <td>52154.48</td>\n",
       "      <td>565.93</td>\n",
       "      <td>14950.47</td>\n",
       "      <td>0.0</td>\n",
       "      <td>36638.08</td>\n",
       "      <td>20280.98</td>\n",
       "      <td>56919.06</td>\n",
       "    </tr>\n",
       "  </tbody>\n",
       "</table>\n",
       "</div>"
      ],
      "text/plain": [
       "             VCI Stock précédent  VCI Destruction  VCI Complément  \\\n",
       "Appellation                                                         \n",
       "CDR                     48767.03           465.33        14119.40   \n",
       "CVG                      3387.45           100.60          831.07   \n",
       "Total                   52154.48           565.93        14950.47   \n",
       "\n",
       "             VCI Substitution  VCI Rafraichi  VCI Constitué  VCI Stock final  \n",
       "Appellation                                                                   \n",
       "CDR                       0.0       34182.30       17386.40         51568.70  \n",
       "CVG                       0.0        2455.78        2894.58          5350.36  \n",
       "Total                     0.0       36638.08       20280.98         56919.06  "
      ]
     },
     "execution_count": 56,
     "metadata": {},
     "output_type": "execute_result"
    }
   ],
   "source": [
    "drev = drev.query(\"Appellation == 'CVG' or Appellation=='CDR'\") \n",
    "drev.loc['Total'] = drev.sum()\n",
    "drev.reset_index().to_csv(\"../../web/exports/stats_drev_VCI.csv\", encoding=\"iso8859_15\", sep=\";\", index=False, decimal=\",\")\n",
    "drev"
   ]
  },
  {
   "cell_type": "code",
   "execution_count": 44,
   "metadata": {},
   "outputs": [],
   "source": [
    "#drev_appellation = pd.DataFrame(drev[['']]) \n",
    "#drev_appellation['Total'] = drev_appellation.pivot(columns=['Total'], values=['VCI Stock précédent', 'VCI Destruction', 'VCI Complément', 'VCI Substitution', 'VCI Rafraichi', 'VCI Constitué', 'VCI Stock final']).fillna(0)"
   ]
  },
  {
   "cell_type": "code",
   "execution_count": null,
   "metadata": {},
   "outputs": [],
   "source": []
  },
  {
   "cell_type": "code",
   "execution_count": null,
   "metadata": {},
   "outputs": [],
   "source": []
  }
 ],
 "metadata": {
  "kernelspec": {
   "display_name": "Python 3",
   "language": "python",
   "name": "python3"
  },
  "language_info": {
   "codemirror_mode": {
    "name": "ipython",
    "version": 3
   },
   "file_extension": ".py",
   "mimetype": "text/x-python",
   "name": "python",
   "nbconvert_exporter": "python",
   "pygments_lexer": "ipython3",
   "version": "3.8.5"
  }
 },
 "nbformat": 4,
 "nbformat_minor": 4
}
