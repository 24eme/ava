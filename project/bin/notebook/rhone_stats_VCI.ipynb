{
 "cells": [
  {
   "cell_type": "code",
   "execution_count": null,
   "metadata": {},
   "outputs": [],
   "source": [
    "import pandas as pd\n",
    "drev = pd.read_csv(\"../../web/exports/drev.csv\", encoding=\"iso8859_15\", delimiter=\";\", decimal=\",\",dtype={'CVI Opérateur': 'str', 'Identifiant': 'str','Appellation': 'str','Campagne': 'str'}, low_memory=False)\n",
    "\n",
    "drev = drev[['Appellation','Campagne','VCI Stock précédent', 'VCI Destruction', 'VCI Complément', 'VCI Substitution', 'VCI Rafraichi', 'VCI Constitué', 'VCI Stock final']]\n",
    "drev = drev[drev['Campagne'] == '2020'].fillna(0) \n",
    "drev = drev.groupby(['Appellation']).sum() "
   ]
  },
  {
   "cell_type": "code",
   "execution_count": null,
   "metadata": {},
   "outputs": [],
   "source": [
    "drev = drev.query(\"Appellation == 'CVG' or Appellation=='CDR'\") \n",
    "drev.loc['Total'] = drev.sum()\n",
    "drev.reset_index().to_csv(\"../../web/exports/stats_drev_VCI.csv\", encoding=\"iso8859_15\", sep=\";\", index=False, decimal=\",\")\n",
    "drev"
   ]
  },
  {
   "cell_type": "code",
   "execution_count": null,
   "metadata": {},
   "outputs": [],
   "source": [
    "#drev_appellation = pd.DataFrame(drev[['']]) \n",
    "#drev_appellation['Total'] = drev_appellation.pivot(columns=['Total'], values=['VCI Stock précédent', 'VCI Destruction', 'VCI Complément', 'VCI Substitution', 'VCI Rafraichi', 'VCI Constitué', 'VCI Stock final']).fillna(0)"
   ]
  },
  {
   "cell_type": "code",
   "execution_count": null,
   "metadata": {},
   "outputs": [],
   "source": []
  },
  {
   "cell_type": "code",
   "execution_count": null,
   "metadata": {},
   "outputs": [],
   "source": []
  }
 ],
 "metadata": {
  "kernelspec": {
   "display_name": "Python 3",
   "language": "python",
   "name": "python3"
  },
  "language_info": {
   "codemirror_mode": {
    "name": "ipython",
    "version": 3
   },
   "file_extension": ".py",
   "mimetype": "text/x-python",
   "name": "python",
   "nbconvert_exporter": "python",
   "pygments_lexer": "ipython3",
   "version": "3.9.2"
  }
 },
 "nbformat": 4,
 "nbformat_minor": 4
}
