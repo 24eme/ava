{
 "cells": [
  {
   "cell_type": "code",
   "execution_count": null,
   "id": "early-warrior",
   "metadata": {},
   "outputs": [],
   "source": [
    "import pandas as pd\n",
    "import numpy as np\n",
    "\n",
    "pd.set_option('display.max_columns', None)\n",
    "\n",
    "drev = pd.read_csv(\"../../web/exports/drev.csv\", encoding=\"iso8859_15\", delimiter=\";\", decimal=\",\", dtype={'Identifiant': 'str', 'Campagne': 'str', 'Siret Opérateur': 'str', 'Code postal Opérateur': 'str'}, low_memory=False)\n",
    "etablissements = pd.read_csv(\"../../web/exports/etablissements.csv\", encoding=\"iso8859_15\", delimiter=\";\", decimal=\",\", dtype={'Login': 'str', 'Identifiant etablissement': 'str'}, index_col=False, low_memory=False)\n",
    "dr = pd.read_csv(\"../../web/exports/dr.csv\", encoding=\"iso8859_15\", delimiter=\";\",decimal=\",\", dtype={'Identifiant': 'str', 'Campagne': 'str', 'Valeur': 'float64'}, low_memory=False)\n",
    "societe = pd.read_csv(\"../../web/exports/societe.csv\", encoding=\"iso8859_15\", delimiter=\";\", decimal=\",\", dtype={'Identifiant': 'str', 'Téléphone' :'str', 'Téléphone portable': 'str'}, index_col=False, low_memory=False)"
   ]
  },
  {
   "cell_type": "code",
   "execution_count": null,
   "id": "sitting-technical",
   "metadata": {},
   "outputs": [],
   "source": [
    "campagne = \"2020\"   \n",
    "\n",
    "drev = drev.query(\"Campagne == @campagne\");\n",
    "\n",
    "drev = drev.groupby(['Identifiant','Appellation','CVI Opérateur']).sum()\n",
    "\n",
    "drev = drev.reset_index(level=['Identifiant', 'Appellation','CVI Opérateur'])\n"
   ]
  },
  {
   "cell_type": "code",
   "execution_count": null,
   "id": "returning-theta",
   "metadata": {},
   "outputs": [],
   "source": [
    "dr = dr.query(\"Campagne == @campagne\");\n",
    "\n",
    "#dr = dr.query(\"Appellation != 'CDR' and Appellation != 'CVG'\")\n",
    "\n",
    "dr[\"Bailleur PPM\"] = dr['Bailleur PPM'].fillna(\"\")\n",
    "\n",
    "#dr avec en colonnes les differentes categorie, et en lignes chaque identifiant\n",
    "dr = pd.pivot_table(dr, values= 'Valeur', index=['Identifiant',\"Appellation\",'Bailleur PPM','CVI'],columns=['Code'], aggfunc=np.sum)\n",
    "dr = dr.reset_index(level=['Bailleur PPM','CVI'])\n"
   ]
  },
  {
   "cell_type": "code",
   "execution_count": null,
   "id": "announced-mississippi",
   "metadata": {},
   "outputs": [],
   "source": [
    "#drev_cru = drev.query(\"Appellation != 'CDR' and Appellation != 'CVG'\")\n",
    "\n",
    "#merge entre les drev et les dr sur l'identifiant\n",
    "drev_cru_with_dr = pd.merge(drev, dr, how='outer',left_on=[\"Identifiant\",'Appellation'], right_on=[\"Identifiant\",\"Appellation\"],suffixes=(\"\", \" societe\"))\n",
    "\n",
    "drev_cru_with_dr['AOCID-E'] = drev_cru_with_dr['Appellation']+'-'+drev_cru_with_dr['Identifiant']\n",
    "drev_cru_with_dr['AOCIDBAIL-E'] = drev_cru_with_dr['Bailleur PPM']\n",
    "#drev_cru_with_dr['AOCIDBAIL-E'] = drev_cru_with_dr['AOCIDBAIL-E'].str[:-2]\n"
   ]
  },
  {
   "cell_type": "code",
   "execution_count": null,
   "id": "living-defeat",
   "metadata": {},
   "outputs": [],
   "source": [
    "#sous dataframe pour avoir l'id de l'établissement pour un bailleur\n",
    "id_bail = etablissements[[\"Login\", \"PPM\"]]\n",
    "id_bail = id_bail.rename(columns={'Login': \"ID_BAIL\",'PPM':\"BAILLEURE_PPM\"})\n"
   ]
  },
  {
   "cell_type": "code",
   "execution_count": null,
   "id": "strong-booking",
   "metadata": {},
   "outputs": [],
   "source": [
    "#renommage des colonnes\n",
    "drev_cru_with_dr['AOC'] = drev_cru_with_dr['Appellation']\n",
    "drev_cru_with_dr['DREV_SURF'] = drev_cru_with_dr['Superficie revendiqué']\n",
    "drev_cru_with_dr['DREV_VOL'] = drev_cru_with_dr['Volume revendiqué net total']\n",
    "\n",
    "\n",
    "#par code \n",
    "drev_cru_with_dr['DR_SURF'] = drev_cru_with_dr['04']\n",
    "drev_cru_with_dr['DR_REC_TOTALE'] = drev_cru_with_dr['05']\n",
    "drev_cru_with_dr['DR_VF RAISIN'] = drev_cru_with_dr['06']\n",
    "drev_cru_with_dr['DR_VF MOUT'] = drev_cru_with_dr['07']\n",
    "drev_cru_with_dr['DR_CAVE COOP'] = drev_cru_with_dr[\"08\"]\n",
    "drev_cru_with_dr['DR_CAVE PART'] = drev_cru_with_dr['09']\n",
    "drev_cru_with_dr['DR_VOL VINIF'] = drev_cru_with_dr['10']\n",
    "drev_cru_with_dr['DR_VOL AOC'] = drev_cru_with_dr['15']\n",
    "drev_cru_with_dr['DR_VOL UI'] = drev_cru_with_dr['16']\n",
    "\n",
    "#drev_cru_with_dr['AOC'] = drev_cru_with_dr['Appellation']\n",
    "\n",
    "\n",
    "#rempli les cases vide par \"\" pour ensuite faire des conditions sur ces cases\n",
    "drev_cru_with_dr[\"AOCIDBAIL-E\"] = drev_cru_with_dr['Bailleur PPM'].fillna(\"\")\n",
    "drev_cru_with_dr[\"CVI_OPERATEUR\"] = drev_cru_with_dr['CVI Opérateur'].fillna(\"\")\n",
    "\n",
    "#conditions sur les cases drev_surf et drev_vol\n",
    "drev_cru_with_dr.loc[drev_cru_with_dr['AOCIDBAIL-E'] != \"\" , 'DREV_SURF'] = np.nan\n",
    "drev_cru_with_dr.loc[drev_cru_with_dr['AOCIDBAIL-E'] != \"\" , 'DREV_VOL'] = np.nan\n",
    "\n",
    "#condition pour avoir le reste des CVI qui proviennent des dr mais qui ne sont pas dans drev\n",
    "drev_cru_with_dr.loc[drev_cru_with_dr.CVI_OPERATEUR == \"\" , 'CVI_OPERATEUR'] = drev_cru_with_dr[\"CVI\"]"
   ]
  },
  {
   "cell_type": "code",
   "execution_count": null,
   "id": "attempted-worker",
   "metadata": {},
   "outputs": [],
   "source": [
    "\n",
    "#merge entre etablissements et societe pour avoir l'adresse de la societe\n",
    "etablissements['Identifiant societe'] = etablissements['Identifiant etablissement'].str[:-2]\n",
    "etablissements = pd.merge(societe, etablissements, how='inner',left_on=\"Identifiant\", right_on=\"Identifiant societe\",suffixes=(\"\", \" etablissement\"))\n",
    "\n",
    "#merge entre le nouveau df d'établissement et le df dr+drev pour avoir les coordonnées\n",
    "drev_cru_with_dr = pd.merge(drev_cru_with_dr,etablissements, left_on ='CVI_OPERATEUR', right_on = 'CVI',suffixes=(\"\", \" etablissement 2\"))\n",
    "\n",
    "\n",
    "#renommage\n",
    "drev_cru_with_dr['ID'] = drev_cru_with_dr['Identifiant etablissement']\n",
    "drev_cru_with_dr = drev_cru_with_dr.rename(columns={'Identifiant etablissement': \"ID_ETABLISSEMENT\"})\n"
   ]
  },
  {
   "cell_type": "code",
   "execution_count": null,
   "id": "sorted-scenario",
   "metadata": {},
   "outputs": [],
   "source": [
    "\n",
    "#merge entre le tableau finale et le tableau des bailleur pour avoir les coordonnées du bailleur\n",
    "drev_cru_with_dr = pd.merge(drev_cru_with_dr,id_bail, how='left',left_on='AOCIDBAIL-E',right_on=\"BAILLEURE_PPM\")\n",
    "\n",
    "#met \"\" dans case vide pour condition\n",
    "#drev_cru_with_dr['ID_BAIL'] = drev_cru_with_dr['ID_BAIL'].fillna(\"\")\n",
    "\n",
    "\n",
    "#merge entre tableau complet et etablissement sur id etablissement du bailleur pour avoir coordonnées du bailleur\n",
    "drev_cru_with_dr = pd.merge(drev_cru_with_dr,etablissements, how='left', left_on='ID_BAIL', right_on='Identifiant societe', suffixes=(\"\", \" bailleur\"))\n",
    "\n",
    "\n",
    "#change toutes les coordonnées pour les lignes avec bailleur\n",
    "drev_cru_with_dr.loc[drev_cru_with_dr['AOCIDBAIL-E'] != \"\" , 'ID'] = drev_cru_with_dr['AOCIDBAIL-E']\n",
    "drev_cru_with_dr.loc[drev_cru_with_dr['AOCIDBAIL-E'] != \"\" , 'CVI_OPERATEUR'] = \"Bailleur\"\n",
    "drev_cru_with_dr.loc[drev_cru_with_dr['AOCIDBAIL-E'] != \"\" , 'Raison sociale'] = drev_cru_with_dr['Raison sociale bailleur']\n",
    "drev_cru_with_dr.loc[drev_cru_with_dr['AOCIDBAIL-E'] != \"\" , 'Adresse'] = drev_cru_with_dr['Adresse bailleur']\n",
    "drev_cru_with_dr.loc[drev_cru_with_dr['AOCIDBAIL-E'] != \"\" , 'Adresse 2'] = drev_cru_with_dr['Adresse 2 bailleur']\n",
    "drev_cru_with_dr.loc[drev_cru_with_dr['AOCIDBAIL-E'] != \"\" , 'Adresse 3'] = drev_cru_with_dr['Adresse 3 bailleur']\n",
    "drev_cru_with_dr.loc[drev_cru_with_dr['AOCIDBAIL-E'] != \"\" , 'Code postal'] = drev_cru_with_dr['Code postal bailleur']\n",
    "drev_cru_with_dr.loc[drev_cru_with_dr['AOCIDBAIL-E']!= \"\" , 'Téléphone'] = drev_cru_with_dr['Téléphone bailleur']\n",
    "drev_cru_with_dr.loc[drev_cru_with_dr['AOCIDBAIL-E'] != \"\" , 'Téléphone portable'] = drev_cru_with_dr['Téléphone portable bailleur']\n",
    "drev_cru_with_dr.loc[drev_cru_with_dr['AOCIDBAIL-E'] != \"\" , 'Email'] = drev_cru_with_dr['Email bailleur']\n",
    "drev_cru_with_dr.loc[drev_cru_with_dr['AOCIDBAIL-E'] != \"\" , 'AOCIDBAIL-E'] = drev_cru_with_dr['AOCID-E']+\"/\"+drev_cru_with_dr['AOCIDBAIL-E']\n",
    "drev_cru_with_dr.loc[drev_cru_with_dr['AOCIDBAIL-E'] == \"\" , 'AOCIDBAIL-E'] = drev_cru_with_dr['AOCID-E']\n",
    "\n",
    "drev_cru_with_dr['ID_BAIL'] = drev_cru_with_dr['ID_BAIL'].fillna('')"
   ]
  },
  {
   "cell_type": "code",
   "execution_count": null,
   "id": "heated-subcommittee",
   "metadata": {},
   "outputs": [],
   "source": [
    "#première colonne ...\n",
    "drev_cru_with_dr['AOCID'] = drev_cru_with_dr['Appellation']+'-'+drev_cru_with_dr['Identifiant societe']\n",
    "drev_cru_with_dr['AOCIDBAIL'] = drev_cru_with_dr['AOCID']\n",
    "drev_cru_with_dr.loc[drev_cru_with_dr.ID_BAIL != '', 'AOCIDBAIL'] = drev_cru_with_dr['AOCIDBAIL']+'/'+drev_cru_with_dr['ID']\n",
    "drev_cru_with_dr.loc[drev_cru_with_dr.ID_BAIL == '', 'ID'] = drev_cru_with_dr['ID'].str[:-2]\n",
    "\n"
   ]
  },
  {
   "cell_type": "code",
   "execution_count": null,
   "id": "backed-blend",
   "metadata": {},
   "outputs": [],
   "source": [
    "#colonnes à avoir dans le csv final\n",
    "drev_cru_with_dr = drev_cru_with_dr[['AOCIDBAIL','AOCID','Appellation', 'DREV_SURF' , 'DREV_VOL', 'DR_SURF', 'DR_REC_TOTALE','DR_VF RAISIN','DR_VF MOUT',\"DR_CAVE COOP\",'DR_CAVE PART','DR_VOL VINIF','DR_VOL AOC','DR_VOL UI','ID','ID_BAIL','CVI_OPERATEUR','Raison sociale','Adresse','Adresse 2','Adresse 3','Code postal','Commune','Téléphone','Téléphone portable','Email']]\n",
    "\n",
    "drev_cru_with_dr.drop_duplicates(keep='first',inplace=True)\n",
    "\n",
    "#trie par AOCIDBAIL\n",
    "drev_cru_with_dr = drev_cru_with_dr.sort_values(by = 'AOCIDBAIL')\n"
   ]
  },
  {
   "cell_type": "code",
   "execution_count": null,
   "id": "animal-criminal",
   "metadata": {},
   "outputs": [],
   "source": [
    "#remplace les volumes vide par 0 pour faire la somme si deux lignes ont la même societe\n",
    "drev_cru_with_dr['DREV_SURF'] = drev_cru_with_dr['DREV_SURF'].fillna(0)\n",
    "drev_cru_with_dr['DREV_VOL'] = drev_cru_with_dr['DREV_VOL'].fillna(0)\n",
    "drev_cru_with_dr['DR_SURF'] = drev_cru_with_dr['DR_SURF'].fillna(0)\n",
    "drev_cru_with_dr['DR_REC_TOTALE'] = drev_cru_with_dr['DR_REC_TOTALE'].fillna(0)\n",
    "drev_cru_with_dr['DR_VF RAISIN'] = drev_cru_with_dr['DR_VF RAISIN'].fillna(0)\n",
    "drev_cru_with_dr['DR_VF MOUT'] = drev_cru_with_dr['DR_VF MOUT'].fillna(0)\n",
    "drev_cru_with_dr['DR_CAVE COOP'] = drev_cru_with_dr['DR_CAVE COOP'].fillna(0)\n",
    "drev_cru_with_dr['DR_CAVE PART'] = drev_cru_with_dr['DR_CAVE PART'].fillna(0)\n",
    "drev_cru_with_dr['DR_VOL VINIF'] = drev_cru_with_dr['DR_VOL VINIF'].fillna(0)\n",
    "drev_cru_with_dr['DR_VOL AOC'] = drev_cru_with_dr['DR_VOL AOC'].fillna(0)\n",
    "drev_cru_with_dr['DR_VOL UI'] = drev_cru_with_dr['DR_VOL UI'].fillna(0)\n",
    "\n",
    "\n",
    "#groupby 'societe' on prend les infos du première etablissement de la societe\n",
    "aggregation_functions = {'AOCIDBAIL':'first','AOCID': 'first', 'Appellation': 'first',  'DREV_SURF': 'sum', 'DREV_VOL': 'sum', 'DR_SURF': 'sum', \n",
    "                         'DR_REC_TOTALE': 'sum', 'DR_VF RAISIN': 'sum', 'DR_VF MOUT': 'sum', 'DR_CAVE COOP': 'sum',\n",
    "                         'DR_CAVE PART': 'sum', 'DR_VOL VINIF': 'sum','DR_VOL AOC': 'sum','DR_VOL UI':'sum',\n",
    "                         'ID': 'first','ID_BAIL':'first','CVI_OPERATEUR':'first','Raison sociale':'first',\n",
    "                         'Adresse':'first','Adresse 2':'first','Adresse 3':'first','Code postal':'first','Commune':'first',\n",
    "                         'Téléphone':'first','Téléphone portable':'first','Email':'first'}\n",
    "drev_cru_with_dr = drev_cru_with_dr.groupby(drev_cru_with_dr['AOCIDBAIL']).aggregate(aggregation_functions)"
   ]
  },
  {
   "cell_type": "code",
   "execution_count": null,
   "id": "affected-passport",
   "metadata": {},
   "outputs": [],
   "source": [
    "drev_cru_with_dr.to_csv('../../web/exports/facturation_cotisations_par_appellation_et_societe_'+campagne+'.csv', encoding=\"iso8859_15\", sep=\";\", decimal=\",\", index=False)"
   ]
  }
 ],
 "metadata": {
  "kernelspec": {
   "display_name": "Python 3",
   "language": "python",
   "name": "python3"
  },
  "language_info": {
   "codemirror_mode": {
    "name": "ipython",
    "version": 3
   },
   "file_extension": ".py",
   "mimetype": "text/x-python",
   "name": "python",
   "nbconvert_exporter": "python",
   "pygments_lexer": "ipython3",
   "version": "3.9.2"
  }
 },
 "nbformat": 4,
 "nbformat_minor": 5
}
