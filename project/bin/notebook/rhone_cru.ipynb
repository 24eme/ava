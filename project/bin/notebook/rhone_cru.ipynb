{
 "cells": [
  {
   "cell_type": "code",
   "execution_count": null,
   "id": "figured-fashion",
   "metadata": {},
   "outputs": [],
   "source": [
    "import pandas as pd\n",
    "import numpy as np\n",
    "\n",
    "pd.set_option('display.max_columns', None)\n",
    "\n",
    "drev = pd.read_csv(\"../../web/exports/drev.csv\", encoding=\"iso8859_15\", delimiter=\";\", decimal=\",\", dtype={'Identifiant': 'str', 'Campagne': 'str', 'Siret Opérateur': 'str', 'Code postal Opérateur': 'str'}, low_memory=False)\n",
    "etablissements = pd.read_csv(\"../../web/exports/etablissements.csv\", encoding=\"iso8859_15\", delimiter=\";\", decimal=\",\", dtype={'Login': 'str', 'Identifiant etablissement': 'str'}, index_col=False, low_memory=False)\n",
    "dr = pd.read_csv(\"../../web/exports/dr.csv\", encoding=\"iso8859_15\", delimiter=\";\",decimal=\",\", dtype={'Identifiant': 'str', 'Campagne': 'str', 'Valeur': 'float64'}, low_memory=False)\n"
   ]
  },
  {
   "cell_type": "code",
   "execution_count": null,
   "id": "early-warrior",
   "metadata": {},
   "outputs": [],
   "source": [
    "campagne = '2020'\n",
    "drev = drev.query(\"Campagne == @campagne\");\n",
    "\n",
    "dr = dr.query(\"Campagne == @campagne\");\n",
    "dr = dr.query(\"Appellation != 'CDR' and Appellation != 'CVG'\")\n",
    "\n",
    "dr[\"Bailleur PPM\"] = dr['Bailleur PPM'].fillna(\"DEFAUT\")\n",
    "\n",
    "dr = pd.pivot_table(dr, values= 'Valeur', index=['Identifiant',\"Bailleur PPM\",\"Appellation\",\"INAO\",\"Produit\"],columns=['Categorie'], aggfunc=np.sum)\n",
    "\n",
    "drev_cru = drev.query(\"Appellation != 'CDR' and Appellation != 'CVG'\")\n",
    "\n",
    "drev_cru_with_dr = pd.merge(drev_cru, dr, how='inner',left_on=\"Identifiant\", right_on=\"Identifiant\",suffixes=(\"\", \" societe\"))\n",
    "\n",
    "drev_cru_with_dr['AOCIDBAIL'] = drev_cru_with_dr['Appellation']+'-'+drev_cru_with_dr['Identifiant']\n",
    "#print(drev_cru_with_dr)\n",
    "#remettre les colonnes dans l'ordre comme présenter par Serge et regarder pk le merge ne fonctionne pas entre dr et drev_cru, une ligne en trop par exemple n°328"
   ]
  },
  {
   "cell_type": "code",
   "execution_count": null,
   "id": "reverse-diploma",
   "metadata": {},
   "outputs": [],
   "source": [
    "drev_cru_with_dr.to_csv('../../web/exports/test_cru'+campagne+'.csv', encoding=\"iso8859_15\", sep=\";\", decimal=\",\")"
   ]
  },
  {
   "cell_type": "code",
   "execution_count": null,
   "id": "arabic-dominican",
   "metadata": {},
   "outputs": [],
   "source": []
  }
 ],
 "metadata": {
  "kernelspec": {
   "display_name": "Python 3",
   "language": "python",
   "name": "python3"
  },
  "language_info": {
   "codemirror_mode": {
    "name": "ipython",
    "version": 3
   },
   "file_extension": ".py",
   "mimetype": "text/x-python",
   "name": "python",
   "nbconvert_exporter": "python",
   "pygments_lexer": "ipython3",
   "version": "3.9.2"
  }
 },
 "nbformat": 4,
 "nbformat_minor": 5
}
