{
 "cells": [
  {
   "cell_type": "code",
   "execution_count": null,
   "id": "derived-tracy",
   "metadata": {},
   "outputs": [],
   "source": [
    "import pandas as pd\n",
    "factures = pd.read_csv(\"../../web/exports/factures.csv\", encoding=\"iso8859_15\", delimiter=\";\", decimal=\",\", dtype={'Identifiant Analytique': 'str'}, low_memory=False)\n",
    "factures = factures.fillna('')\n",
    "factures['identifiant_ligne'] = factures.index\n",
    "factures = factures[factures['Piece'] > 2000001]\n",
    "\n",
    "factures_meta = factures[['identifiant_ligne', 'Date', 'Raison sociale', 'Adresse', 'Code Postal', 'Ville', 'Telephone fixe', 'Telephone Portable', 'eMail', 'Piece', 'id facture']]\n",
    "factures_id = factures[['identifiant_ligne', 'id facture']]\n",
    "factures_lignes = factures[['identifiant_ligne', 'Identifiant Analytique','Nom Cotisation', 'Cotisation Prix unitaire', 'Quantite Cotisation', 'Prix HT', 'TVA', 'Prix TTC']]\n"
   ]
  },
  {
   "cell_type": "code",
   "execution_count": null,
   "id": "coupled-small",
   "metadata": {},
   "outputs": [],
   "source": [
    "factures_pivot = factures_lignes.pivot(columns=['Nom Cotisation'], values=['Cotisation Prix unitaire', 'Quantite Cotisation', 'Prix HT', 'TVA', 'Prix TTC']).fillna(0)\n",
    "factures_pivot = factures_id.join(factures_pivot, on=['identifiant_ligne']).groupby('id facture').sum()\n"
   ]
  },
  {
   "cell_type": "code",
   "execution_count": null,
   "id": "environmental-concept",
   "metadata": {},
   "outputs": [],
   "source": [
    "factures_meta = factures_meta.groupby('id facture').first()"
   ]
  },
  {
   "cell_type": "code",
   "execution_count": null,
   "id": "toxic-parish",
   "metadata": {},
   "outputs": [],
   "source": [
    "factures_meta['Cotisation valorisation HT']  = factures_pivot[('Prix HT', 'Cotisation valorisation - Superficie')]\n",
    "factures_meta['Cotisation valorisation HT'] += factures_pivot[('Prix HT', 'Cotisation valorisation - VCI')]\n",
    "factures_meta['Cotisation valorisation HT'] += factures_pivot[('Prix HT', 'Cotisation valorisation - Volume')]\n",
    "factures_meta['Cotisation valorisation HT'] += factures_pivot[('Prix HT', 'Cotisation valorisation - Volume Crus')]\n",
    "\n",
    "factures_meta['Cotisation valorisation TVA']  = factures_pivot[('TVA', 'Cotisation valorisation - Superficie')]\n",
    "factures_meta['Cotisation valorisation TVA'] += factures_pivot[('TVA', 'Cotisation valorisation - VCI')]\n",
    "factures_meta['Cotisation valorisation TVA'] += factures_pivot[('TVA', 'Cotisation valorisation - Volume')]\n",
    "factures_meta['Cotisation valorisation TVA'] += factures_pivot[('TVA', 'Cotisation valorisation - Volume Crus')]\n",
    "\n",
    "factures_meta['Remboursement valorisation covid HT']  = factures_pivot[('Prix HT', 'Cotisation valorisation - Remise exceptionnelle Covid')]\n",
    "\n",
    "factures_meta['Remboursement valorisation covid TVA']  = factures_pivot[('TVA', 'Cotisation valorisation - Remise exceptionnelle Covid')]\n",
    "\n",
    "factures_meta['Total valoriation TVA'] = factures_meta['Cotisation valorisation TVA'] + factures_meta['Remboursement valorisation covid TVA']\n",
    "factures_meta['Total valoriation HT'] = factures_meta['Cotisation valorisation HT'] + factures_meta['Remboursement valorisation covid HT']\n",
    "factures_meta['Total valoriation TTC'] = factures_meta['Total valoriation TVA'] + factures_meta['Total valoriation HT']\n",
    "\n",
    "factures_meta['Cotisation ODG TOTAL ou forfait']  = factures_pivot[('Prix HT', 'Cotisation ODG - Superficie')]\n",
    "factures_meta['Cotisation ODG TOTAL ou forfait'] += factures_pivot[('Prix HT', 'Cotisation ODG - VCI')]\n",
    "factures_meta['Cotisation ODG TOTAL ou forfait'] += factures_pivot[('Prix HT', 'Cotisation ODG - Volume')]\n",
    "factures_meta['Cotisation ODG TOTAL ou forfait'] += factures_pivot[('Prix HT', 'Cotisation ODG Forfait')]\n",
    "\n",
    "factures_meta['Remboursement ODG covid']  = factures_pivot[('Prix HT', 'Cotisation ODG - Remise exceptionnelle Covid')]\n",
    "\n",
    "factures_meta['ODG TOTAL + remise'] = factures_meta['Cotisation ODG TOTAL ou forfait'] + factures_meta['Remboursement ODG covid']\n",
    "\n",
    "factures_meta['Droits I.N.A.O.'] = factures_pivot[('Prix HT', 'Droits I.N.A.O. (Art. 34, Loi 88/11/93 du 29/12/1988)')]\n",
    "\n",
    "factures_meta['TOTAL ODG + INAO'] = factures_meta['ODG TOTAL + remise'] + factures_meta['Droits I.N.A.O.']\n",
    "factures_meta['Total facture TTC'] = factures_pivot[('Prix TTC', 'Total facture')]"
   ]
  },
  {
   "cell_type": "code",
   "execution_count": null,
   "id": "adopted-arizona",
   "metadata": {},
   "outputs": [],
   "source": [
    "factures_meta[['Date', 'Raison sociale', 'Adresse', 'Code Postal', 'Ville', 'Telephone fixe', 'Telephone Portable', 'eMail', 'Piece',\n",
    "               'Cotisation valorisation HT', 'Cotisation valorisation TVA',\n",
    "               'Remboursement valorisation covid HT', 'Remboursement valorisation covid TVA', \n",
    "               'Total valoriation TVA', 'Total valoriation HT', 'Total valoriation TTC',\n",
    "               'Cotisation ODG TOTAL ou forfait', 'Remboursement ODG covid', 'ODG TOTAL + remise',\n",
    "               'Droits I.N.A.O.',\n",
    "               'TOTAL ODG + INAO', 'Total facture TTC',]].to_csv('../../web/exports/factures_linemorgane.csv', encoding=\"iso8859_15\", sep=\";\", decimal=\",\")"
   ]
  },
  {
   "cell_type": "code",
   "execution_count": null,
   "id": "incomplete-matter",
   "metadata": {},
   "outputs": [],
   "source": []
  }
 ],
 "metadata": {
  "kernelspec": {
   "display_name": "Python 3",
   "language": "python",
   "name": "python3"
  },
  "language_info": {
   "codemirror_mode": {
    "name": "ipython",
    "version": 3
   },
   "file_extension": ".py",
   "mimetype": "text/x-python",
   "name": "python",
   "nbconvert_exporter": "python",
   "pygments_lexer": "ipython3",
   "version": "3.9.2"
  }
 },
 "nbformat": 4,
 "nbformat_minor": 5
}
