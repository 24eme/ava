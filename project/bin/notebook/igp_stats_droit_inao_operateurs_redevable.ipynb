{
 "cells": [
  {
   "cell_type": "code",
   "execution_count": 267,
   "id": "weird-currency",
   "metadata": {},
   "outputs": [],
   "source": [
    "import pandas as pd\n",
    "pd.set_option('display.max_columns', None)\n",
    "\n",
    "drev_lots = pd.read_csv(\"../../web/exports_igpgascogne/drev_lots.csv\", encoding=\"iso8859_15\", delimiter=\";\", decimal=\",\", dtype={'Identifiant': 'str', 'Campagne': 'str', 'Siret Opérateur': 'str', 'Code postal Opérateur': 'str'}, low_memory=False)\n",
    "etablissements = pd.read_csv(\"../../web/exports_igpgascogne/etablissements.csv\", encoding=\"iso8859_15\", delimiter=\";\", decimal=\",\", dtype={'Login': 'str', 'Identifiant etablissement': 'str'}, index_col=False, low_memory=False)\n",
    "societe = pd.read_csv(\"../../web/exports_igpgascogne/societe.csv\", encoding=\"iso8859_15\", delimiter=\";\", decimal=\",\", dtype={'Identifiant': 'str', 'Téléphone' :'str', 'Téléphone portable': 'str'}, index_col=False, low_memory=False)\n",
    "lots = pd.read_csv(\"../../web/exports_igpgascogne/lots.csv\", encoding=\"iso8859_15\", delimiter=\";\", decimal=\",\", index_col=False, low_memory=False)\n"
   ]
  },
  {
   "cell_type": "code",
   "execution_count": 268,
   "id": "private-brunei",
   "metadata": {},
   "outputs": [],
   "source": [
    "def createCSVByCampagne(campagne,drev_lots,etablissements,societe,lots):\n",
    "    drev_lots = drev_lots.query(\"Campagne == @campagne\");\n",
    "    drev_lots = drev_lots.groupby(['Identifiant','Famille','CVI Opérateur','Siret Opérateur','Nom Opérateur','Adresse Opérateur','Code postal Opérateur','Commune Opérateur','Email Operateur','Appellation'])[[\"Volume\"]].sum()\n",
    "    drev_lots = drev_lots.reset_index()\n",
    "    drev_lots = pd.merge(drev_lots, etablissements, how='left',left_on=[\"Identifiant\"], right_on=[\"Identifiant etablissement\"],suffixes=(\"\", \" etablissement\"))\n",
    "    drev_lots = pd.merge(drev_lots, societe , how =\"left\" , left_on =\"Login\", right_on =\"Identifiant\",suffixes=(\"\", \" societe\"))\n",
    "    \n",
    "    \n",
    "    lots = lots.query(\"Campagne == @campagne\");\n",
    "    lots = lots_groupby(['Id Opérateur',''])\n",
    "    #drev_lots = pd.merge(drev_lots, lots , how='left', left_on = \"Identifiant\", right_on = \"Id Opérateur\",suffixes=(\"\", \" lots\"))\n",
    "    #print(drev_lots.columns)\n",
    "    \n",
    "    \n",
    "    \n",
    "    #colonnes à avoir dans le csv final\n",
    "    drev_lots = drev_lots[['Appellation','Nom Opérateur','Raison sociale','Siret Opérateur', 'CVI Opérateur','Adresse societe','Adresse 2 societe','Adresse 3 societe','Code postal societe', 'Commune societe','Email','Téléphone','Téléphone portable', 'Fax societe','Volume']]\n",
    "    drev_lots.to_csv('../../web/exports/igp_stats_droit_inao_operateurs_redevable'+campagne+\".csv\", encoding=\"iso8859_15\", sep=\";\", decimal=\",\")\n",
    "       \n",
    "    \n",
    "createCSVByCampagne(\"2019-2020\",drev_lots,etablissements,societe,lots)\n",
    "createCSVByCampagne(\"2020-2021\",drev_lots,etablissements,societe,lots)\n"
   ]
  }
 ],
 "metadata": {
  "kernelspec": {
   "display_name": "Python 3",
   "language": "python",
   "name": "python3"
  },
  "language_info": {
   "codemirror_mode": {
    "name": "ipython",
    "version": 3
   },
   "file_extension": ".py",
   "mimetype": "text/x-python",
   "name": "python",
   "nbconvert_exporter": "python",
   "pygments_lexer": "ipython3",
   "version": "3.9.2"
  }
 },
 "nbformat": 4,
 "nbformat_minor": 5
}
