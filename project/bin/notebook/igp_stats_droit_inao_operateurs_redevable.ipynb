{
 "cells": [
  {
   "cell_type": "code",
   "execution_count": null,
   "id": "prescribed-distance",
   "metadata": {},
   "outputs": [],
   "source": [
    "import pandas as pd\n",
    "pd.set_option('display.max_columns', None)\n",
    "\n",
    "drev_lots = pd.read_csv(\"../../web/exports_igpgascogne/drev_lots.csv\", encoding=\"iso8859_15\", delimiter=\";\", decimal=\",\", dtype={'Identifiant': 'str', 'Campagne': 'str', 'Siret Opérateur': 'str', 'Code postal Opérateur': 'str'}, low_memory=False)\n",
    "etablissements = pd.read_csv(\"../../web/exports_igpgascogne/etablissements.csv\", encoding=\"iso8859_15\", delimiter=\";\", decimal=\",\", dtype={'Login': 'str', 'Identifiant etablissement': 'str'}, index_col=False, low_memory=False)\n",
    "societe = pd.read_csv(\"../../web/exports_igpgascogne/societe.csv\", encoding=\"iso8859_15\", delimiter=\";\", decimal=\",\", dtype={'Identifiant': 'str', 'Téléphone' :'str', 'Téléphone portable': 'str'}, index_col=False, low_memory=False)\n",
    "lots = pd.read_csv(\"../../web/exports_igpgascogne/lots.csv\", encoding=\"iso8859_15\", delimiter=\";\", decimal=\",\", index_col=False, low_memory=False)\n",
    "changement_denomination = pd.read_csv(\"../../web/exports_igpgascogne/changement_denomination.csv\", encoding=\"iso8859_15\", delimiter=\";\", decimal=\",\", dtype={'Campagne': 'str', 'Millésime':'str','Origine Millésime':'str'}, index_col=False, low_memory=False)"
   ]
  },
  {
   "cell_type": "code",
   "execution_count": null,
   "id": "surface-functionality",
   "metadata": {},
   "outputs": [],
   "source": [
    "def createCSVByCampagne(campagne,drev_lots,etablissements,societe,lots,changement_denomination):\n",
    "    drev_lots = drev_lots.query(\"Campagne == @campagne\");\n",
    "    drev_lots = drev_lots.groupby(['Identifiant','Famille','CVI Opérateur','Siret Opérateur','Nom Opérateur','Adresse Opérateur','Code postal Opérateur','Commune Opérateur','Email Operateur','Appellation','Couleur'])[[\"Volume\"]].sum()\n",
    "    drev_lots = drev_lots.reset_index()\n",
    "    \n",
    "    drev_lots = pd.merge(drev_lots, etablissements, how='left',left_on=[\"Identifiant\"], right_on=[\"Identifiant etablissement\"],suffixes=(\"\", \" etablissement\"))\n",
    "    drev_lots = pd.merge(drev_lots, societe , how =\"left\" , left_on =\"Login\", right_on =\"Identifiant\",suffixes=(\"\", \" societe\"))\n",
    "    \n",
    "    conforme = \"Conforme\"\n",
    "    rep_conforme = \"Réputé conforme\"\n",
    "    \n",
    "    lots = lots.query(\"Campagne == @campagne\");    \n",
    "    lots = lots.rename(columns = {'Statut de lot': 'Statut_de_lot'})\n",
    "    lots = lots.query(\"Statut_de_lot != @conforme & Statut_de_lot != @rep_conforme\");           \n",
    "    lots = lots.groupby(['Id Opérateur','Nom Opérateur','Appellation','Couleur'])[[\"Volume\"]].sum()\n",
    "    lots = lots.reset_index() #à enlever peut être\n",
    "        \n",
    "    drev_lots = pd.merge(drev_lots, lots , how='left', left_on = [\"Identifiant\",'Nom Opérateur','Appellation','Couleur'], right_on = [\"Id Opérateur\",'Nom Opérateur','Appellation','Couleur'],suffixes=(\"\", \" lots\"))\n",
    "       \n",
    "    \n",
    "    drev_lots =  drev_lots.rename(columns = {'Volume': 'Volume revendiqué','Volume lots':'Volume en instance de conformité'})\n",
    "            \n",
    "    changement_denomination = changement_denomination.rename(columns = {'Type de changement':'Type_de_changement'})\n",
    "    \n",
    "    type_de_changement = \"DECLASSEMENT\"\n",
    "\n",
    "    changement_denomination_declassement = changement_denomination.groupby(['Identifiant','Famille','CVI Opérateur','Siret Opérateur','Origine Appellation','Origine Couleur'])[[\"Volume changé\"]].sum()\n",
    "\n",
    "    changement_denomination_declassement  = changement_denomination_declassement.reset_index()\n",
    "\n",
    "    \n",
    "    type_de_changement = \"CHANGEMENT\"\n",
    "\n",
    "    changement_denomination = changement_denomination.query(\"Campagne == @campagne\")\n",
    "    changement_denomination = changement_denomination.query(\"Type_de_changement == @type_de_changement\")\n",
    "    \n",
    "    changement_denomination = changement_denomination.groupby(['Identifiant','Famille','CVI Opérateur','Siret Opérateur','Origine Appellation','Origine Couleur','Appellation','Couleur'])[[\"Volume changé\"]].sum()\n",
    "\n",
    "    changement_denomination  = changement_denomination.reset_index()\n",
    "    \n",
    "    changement_denomination = pd.merge(changement_denomination,changement_denomination_declassement,how='outer',left_on=[\"Identifiant\",'Origine Appellation','Origine Couleur','Famille'],right_on= [\"Identifiant\",'Origine Appellation','Origine Couleur','Famille'],suffixes=(\"\", \" declassement\"))\n",
    "    \n",
    "    \n",
    "    drev_lots = drev_lots[['Identifiant','Famille','Appellation','Couleur','Nom Opérateur','Raison sociale','Siret Opérateur', 'CVI Opérateur','Adresse societe','Adresse 2 societe','Adresse 3 societe','Code postal societe', 'Commune societe','Email','Téléphone','Téléphone portable', 'Fax societe','Volume revendiqué','Volume en instance de conformité']]\n",
    "    \n",
    "    \n",
    "    final = pd.merge(drev_lots,changement_denomination,how='left', left_on=['Identifiant','Appellation','Couleur'], right_on=['Identifiant','Origine Appellation','Origine Couleur'],suffixes=(\"\", \" changement_deno\"))\n",
    "    #,'Appellation','Couleur'\n",
    "    # ,'Origine Appellation','Origine Couleur'\n",
    "    \n",
    "    #colonnes à avoir dans le csv final\n",
    "    final = final[['Identifiant','Famille','Appellation','Couleur','Nom Opérateur','Raison sociale','Siret Opérateur', 'CVI Opérateur','Adresse societe','Adresse 2 societe','Adresse 3 societe','Code postal societe', 'Commune societe','Email','Téléphone','Téléphone portable', 'Fax societe','Volume revendiqué','Volume en instance de conformité','Appellation changement_deno', 'Couleur changement_deno','Volume changé','Volume changé declassement']]\n",
    "\n",
    "    final.to_csv('../../web/exports/igp_stats_droit_inao_operateurs_redevable'+campagne+\".csv\", encoding=\"iso8859_15\", sep=\";\", decimal=\",\")\n",
    "       \n",
    "createCSVByCampagne(\"2019-2020\",drev_lots,etablissements,societe,lots,changement_denomination)\n",
    "createCSVByCampagne(\"2020-2021\",drev_lots,etablissements,societe,lots,changement_denomination)\n"
   ]
  },
  {
   "cell_type": "code",
   "execution_count": null,
   "id": "bottom-queens",
   "metadata": {},
   "outputs": [],
   "source": []
  },
  {
   "cell_type": "code",
   "execution_count": null,
   "id": "increased-contemporary",
   "metadata": {},
   "outputs": [],
   "source": []
  }
 ],
 "metadata": {
  "kernelspec": {
   "display_name": "Python 3",
   "language": "python",
   "name": "python3"
  },
  "language_info": {
   "codemirror_mode": {
    "name": "ipython",
    "version": 3
   },
   "file_extension": ".py",
   "mimetype": "text/x-python",
   "name": "python",
   "nbconvert_exporter": "python",
   "pygments_lexer": "ipython3",
   "version": "3.9.2"
  }
 },
 "nbformat": 4,
 "nbformat_minor": 5
}
