{
 "cells": [
  {
   "cell_type": "code",
   "execution_count": null,
   "metadata": {},
   "outputs": [],
   "source": [
    "import pandas as pd\n",
    "drev = pd.read_csv(\"../../web/exports/drev.csv\", encoding=\"iso8859_15\", delimiter=\";\", decimal=\",\",dtype={'CVI Opérateur': 'str', 'Identifiant': 'str','Appellation': 'str','Campagne': 'str'}, low_memory=False)\n",
    "\n",
    "drev = drev[['Campagne','Produit','Nom Opérateur','Adresse Opérateur','Code postal Opérateur','Commune Opérateur','CVI Opérateur','Siret Opérateur','VCI Stock précédent','Superficie revendiquée','Volume revendiqué issu du mutage','Volume revendiqué issu du vci','VCI Complément','VCI Substitution','VCI Rafraichi','VCI Destruction','Volume revendiqué issu de la récolte','VCI Stock final']]"
   ]
  },
  {
   "cell_type": "code",
   "execution_count": null,
   "metadata": {},
   "outputs": [],
   "source": [
    "campagne = drev['Campagne'].unique()[-1]\n",
    "drev_campagne = drev[drev['Campagne'] == campagne].fillna(0)\n",
    "drev_campagne['has_stock'] = drev_campagne['VCI Stock précédent'] + drev_campagne['VCI Stock final']\n",
    "drev_campagne['VCI N-1 revendiqué'] = drev_campagne['Volume revendiqué issu du vci'] + drev_campagne['VCI Destruction']\n",
    "drev_campagne = drev_campagne[drev_campagne['has_stock'] > 0]\n",
    "#drev_campagne = drev_campagne.sort_values(['Produit'])  \n",
    "drev_campagne = drev_campagne.rename(columns={'VCI Stock précédent': 'VCI N-1','Superficie revendiquée':'Surface (L4)','Volume revendiqué issu du mutage': 'Vol AOC (L15)','Volume revendiqué issu du vci':'Vol VCI (L19)', 'VCI Complément': 'Complément','VCI Substitution':'Substitution','VCI Rafraichi':'Rafraichissement','VCI Destruction':'Destruction','Volume revendiqué issu de la récolte':'Vol AOC issu de la récolte'}) \n",
    "drev_campagne = drev_campagne.drop(['has_stock', 'Campagne','VCI Stock final'],axis=1) \n",
    "drev_campagne.loc['Total'] = drev_campagne[['Complément','VCI N-1','Rafraichissement','Destruction','VCI N-1 revendiqué']].sum()\n",
    "drev_campagne.reset_index(drop=True).to_csv(\"../../web/exports/stats/inao_vci_suivi_\"+campagne+\".csv\", encoding=\"iso8859_15\", sep=\";\", index=False, decimal=\",\")"
   ]
  }
 ],
 "metadata": {
  "kernelspec": {
   "display_name": "Python 3",
   "language": "python",
   "name": "python3"
  },
  "language_info": {
   "codemirror_mode": {
    "name": "ipython",
    "version": 3
   },
   "file_extension": ".py",
   "mimetype": "text/x-python",
   "name": "python",
   "nbconvert_exporter": "python",
   "pygments_lexer": "ipython3",
   "version": "3.8.10"
  }
 },
 "nbformat": 4,
 "nbformat_minor": 4
}
