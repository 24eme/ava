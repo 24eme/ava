{
 "cells": [
  {
   "cell_type": "code",
   "execution_count": null,
   "id": "objective-thursday",
   "metadata": {},
   "outputs": [],
   "source": [
    "import pandas as pd\n",
    "\n",
    "pd.set_option('display.max_columns', None)\n",
    "\n",
    "etablissements = pd.read_csv(\"../../web/exports/etablissements.csv\", encoding=\"iso8859_15\", delimiter=\";\", decimal=\",\", dtype={'Login': 'str', 'Identifiant etablissement': 'str'}, index_col=False, low_memory=False)\n",
    "drev = pd.read_csv(\"../../web/exports/drev.csv\", encoding=\"iso8859_15\", delimiter=\";\", decimal=\",\", dtype={'Identifiant': 'str', 'Campagne': 'str', 'Siret Opérateur': 'str', 'Code postal Opérateur': 'str'}, low_memory=False)\n",
    "dr = pd.read_csv(\"../../web/exports/dr.csv\", encoding=\"iso8859_15\", delimiter=\";\",decimal=\",\", dtype={'Identifiant': 'str', 'Campagne': 'str', 'Valeur': 'float64'}, low_memory=False)\n",
    "societe = pd.read_csv(\"../../web/exports/societe.csv\", encoding=\"iso8859_15\", delimiter=\";\", decimal=\",\", dtype={'Identifiant': 'str', 'Téléphone' :'str', 'Téléphone portable': 'str'}, index_col=False, low_memory=False)"
   ]
  },
  {
   "cell_type": "code",
   "execution_count": null,
   "id": "computational-trace",
   "metadata": {},
   "outputs": [],
   "source": [
    "def createCSVFacturationByCampagne(campagne,drev,etablissements,dr,societe):\n",
    "    drev = drev.query(\"Campagne == @campagne\");\n",
    "    dr = dr.query(\"Campagne == @campagne\");\n",
    "    facturation = pd.DataFrame()\n",
    "    facturation[\"Identifiant\"] = pd.Series(dtype='str')\n",
    "    facturation[\"Campagne\"] = pd.Series(dtype='str')\n",
    "\n",
    "    drev_cdr_cdrv = drev.query(\"Appellation == 'CDR' or Appellation == 'CVG'\").groupby([\"Campagne\", \"Identifiant\",\"Appellation\"]).sum()\n",
    "    drev_cdrv_sablet = drev.query('Appellation == \"CVG\" and Lieu == \"SAB\"').groupby([\"Campagne\", \"Identifiant\",\"Appellation\", \"Lieu\"]).sum()\n",
    "    drev_cdrv_vaison_romaine = drev.query('Appellation == \"CVG\" and Lieu == \"VLR\"').groupby([\"Campagne\", \"Identifiant\",\"Appellation\", \"Lieu\"]).sum()\n",
    "\n",
    "\n",
    "    facturation = pd.merge(facturation, drev_cdr_cdrv,  how='outer', on=['Campagne', 'Identifiant'])\n",
    "    facturation = pd.merge(facturation, drev_cdrv_sablet,  how='outer', on=['Campagne', 'Identifiant'], suffixes=(\"\", \" sablet\"))\n",
    "    facturation = pd.merge(facturation, drev_cdrv_vaison_romaine,  how='outer', on=['Campagne', 'Identifiant'], suffixes=(\"\", \" vaison la romaine\"))\n",
    "\n",
    "    dr_cdr_cdrv = dr.query(\"(Appellation == 'CDR' or Appellation == 'CVG') and (Code == '06' or Code == '07')\").groupby([\"Campagne\", \"Identifiant\"]).sum()\n",
    "    dr_cdrv_sablet = dr.query(\"Appellation == 'CVG' and Lieu == 'SAB' and (Code == '06' or Code == '07')\").groupby([\"Campagne\", \"Identifiant\"]).sum()\n",
    "    dr_cdrv_vaison_romaine = dr.query(\"Appellation == 'CVG' and Lieu == 'VLR' and (Code == '06' or Code == '07')\").groupby([\"Campagne\", \"Identifiant\"]).sum()\n",
    "\n",
    "    facturation = pd.merge(facturation, dr_cdr_cdrv,  how='outer', on=['Campagne', 'Identifiant'])\n",
    "    facturation = pd.merge(facturation, dr_cdrv_sablet,  how='outer', on=['Campagne', 'Identifiant'], suffixes=(\"\", \" sablet\"))\n",
    "    facturation = pd.merge(facturation, dr_cdrv_vaison_romaine,  how='outer', on=['Campagne', 'Identifiant'], suffixes=(\"\", \" vaison la romaine\"))\n",
    "\n",
    "    facturation[\"Vendange fraiche\"] = facturation[\"Valeur\"]\n",
    "    facturation[\"Vendange fraiche sablet\"] = facturation[\"Valeur sablet\"]\n",
    "    facturation[\"Vendange fraiche vaison la romaine\"] = facturation[\"Valeur vaison la romaine\"]\n",
    "    \n",
    "    etablissements['Identifiant'] = etablissements['Identifiant etablissement']\n",
    "    etablissements = etablissements.rename(columns = {'Titre':'Titre Etablissement','Raison sociale':'Raison sociale Etablissement','Adresse':'Adresse Etablissement','Adresse 2':'Adresse 2 Etablissement','Adresse 3':'Adresse 3 Etablissement','Code postal':'Code postal Etablissement','Commune':'Commune Etablissement','Code comptable':'Code comptable Etablissement','Fax':'Fax Etablissement','Email':'Email Etablissement','Statut':'Statut Etablissement','Observation':'Observation Etablissement'})\n",
    "    etablissements = pd.merge(etablissements, societe, how='inner',left_on=\"Login\", right_on=\"Identifiant\",suffixes=(\"\", \" societe\"))\n",
    "\n",
    "    facturation = pd.merge(facturation, etablissements,  how='inner', on=['Identifiant'], suffixes=(\"\", \" etablissement\"))\n",
    "    facturation = facturation[['Campagne', 'Identifiant', 'CVI', 'Raison sociale', 'Adresse', 'Adresse 2', 'Adresse 3', 'Code postal', 'Commune', 'Téléphone', 'Téléphone portable', 'Email', 'Famille', 'Superficie revendiqué', 'Volume revendiqué net total', 'Superficie revendiqué sablet', 'Volume revendiqué net total sablet',  'Superficie revendiqué vaison la romaine', 'Volume revendiqué net total vaison la romaine', 'Vendange fraiche', 'Vendange fraiche sablet', 'Vendange fraiche vaison la romaine']]\n",
    "    \n",
    "    facturation.to_csv('../../web/exports/stats/facturation_cotisations_'+campagne+'.csv', encoding=\"iso8859_15\", sep=\";\", decimal=\",\", index=False)"
   ]
  },
  {
   "cell_type": "code",
   "execution_count": null,
   "id": "bronze-ministry",
   "metadata": {},
   "outputs": [],
   "source": [
    "createCSVFacturationByCampagne(dr['Campagne'].unique()[-1],drev,etablissements,dr,societe)\n",
    "createCSVFacturationByCampagne(dr['Campagne'].unique()[-2],drev,etablissements,dr,societe)\n"
   ]
  }
 ],
 "metadata": {
  "kernelspec": {
   "display_name": "Python 3",
   "language": "python",
   "name": "python3"
  },
  "language_info": {
   "codemirror_mode": {
    "name": "ipython",
    "version": 3
   },
   "file_extension": ".py",
   "mimetype": "text/x-python",
   "name": "python",
   "nbconvert_exporter": "python",
   "pygments_lexer": "ipython3",
   "version": "3.9.2"
  }
 },
 "nbformat": 4,
 "nbformat_minor": 5
}
