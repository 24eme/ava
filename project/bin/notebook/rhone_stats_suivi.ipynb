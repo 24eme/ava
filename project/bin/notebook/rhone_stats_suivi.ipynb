{
 "cells": [
  {
   "cell_type": "code",
   "execution_count": 3,
   "metadata": {},
   "outputs": [],
   "source": [
    "import pandas as pd\n",
    "drev = pd.read_csv(\"../../web/exports/drev.csv\", encoding=\"iso8859_15\", delimiter=\";\", decimal=\",\",dtype={'CVI Opérateur': 'str', 'Identifiant': 'str','Appellation': 'str','Campagne': 'str'}, low_memory=False)\n",
    "\n",
    "drev = drev[['Campagne','Produit','Nom Opérateur','Adresse Opérateur','Code postal Opérateur','Commune Opérateur','CVI Opérateur','Siret Opérateur','VCI Stock précédent','Superficie revendiqué','Volume revendiqué issu du mutage','Volume revendiqué issu du vci','VCI Complément','VCI Substitution','VCI Rafraichi','VCI Destruction','Volume revendiqué issu de la récolte','VCI Stock final']]"
   ]
  },
  {
   "cell_type": "code",
   "execution_count": null,
   "metadata": {},
   "outputs": [],
   "source": [
    "drev_2020 = drev[drev['Campagne'] == '2020'].fillna(0)\n",
    "drev_2020['has_stock'] = drev_2020['VCI Stock précédent'] + drev_2020['VCI Stock final']\n",
    "drev_2020['VCI N-1 revendiqué'] = drev_2020['Volume revendiqué issu du vci'] + drev_2020['VCI Destruction']\n",
    "drev_2020 = drev_2020[drev_2020['has_stock'] > 0]\n",
    "#drev_2020 = drev_2020.sort_values(['Produit'])  \n",
    "drev_2020 = drev_2020.rename(columns={'VCI Stock précédent': 'VCI N-1','Superficie revendiqué':'Surface (L4)','Volume revendiqué issu du mutage': 'Vol AOC (L15)','Volume revendiqué issu du vci':'Vol VCI (L19)', 'VCI Complément': 'Complément','VCI Substitution':'Substitution','VCI Rafraichi':'Rafraichissement','VCI Destruction':'Destruction','Volume revendiqué issu de la récolte':'Vol AOC issu de la récolte'}) \n",
    "drev_2020 = drev_2020.drop(['has_stock', 'Campagne','VCI Stock final'],axis=1) \n",
    "drev_2020.loc['Total'] = drev_2020[['Complément','VCI N-1','Rafraichissement','Destruction','VCI N-1 revendiqué']].sum()\n",
    "drev_2020.reset_index().to_csv(\"../../web/exports/inao_vci_drev_2020.csv\", encoding=\"iso8859_15\", sep=\";\", index=False, decimal=\",\")"
   ]
  }
 ],
 "metadata": {
  "kernelspec": {
   "display_name": "Python 3",
   "language": "python",
   "name": "python3"
  },
  "language_info": {
   "codemirror_mode": {
    "name": "ipython",
    "version": 3
   },
   "file_extension": ".py",
   "mimetype": "text/x-python",
   "name": "python",
   "nbconvert_exporter": "python",
   "pygments_lexer": "ipython3",
   "version": "3.8.10"
  }
 },
 "nbformat": 4,
 "nbformat_minor": 4
}
