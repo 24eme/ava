{
 "cells": [
  {
   "cell_type": "code",
   "execution_count": null,
   "id": "13fae09c",
   "metadata": {},
   "outputs": [],
   "source": [
    "import pandas as pd\n",
    "import sys\n",
    "import os\n",
    "import re\n",
    "from datetime import datetime\n",
    "\n",
    "igp = None\n",
    "millesime = None\n",
    "moisjour = None"
   ]
  },
  {
   "cell_type": "code",
   "execution_count": 18,
   "id": "bddeb8a7",
   "metadata": {},
   "outputs": [],
   "source": [
    "if sys.argv[0].find('launcher') == -1 :\n",
    "\n",
    "    if(len(sys.argv) > 1 and re.search(\"^igp\", sys.argv[1])):\n",
    "        igp = sys.argv[1].replace('igp', '')\n",
    "    \n",
    "    if(len(sys.argv) > 2 and re.search(\"^[0-9]{4}$\", sys.argv[2])):\n",
    "        millesime = sys.argv[2]\n",
    "    \n",
    "    if(len(sys.argv) > 3 and re.search(\"^[0-9]{2}-[0-9]{2}$\", sys.argv[3])):\n",
    "        moisjour = sys.argv[3]\n",
    "\n",
    "else:\n",
    "    \n",
    "    igp = \"gascogne\""
   ]
  },
  {
   "cell_type": "code",
   "execution_count": 19,
   "id": "5bd31a15",
   "metadata": {},
   "outputs": [],
   "source": [
    "path_igp = \"../../web/exports_igp\"+igp\n",
    "\n",
    "if not millesime:\n",
    "    millesime = str(datetime.now().year - 1)\n",
    "\n",
    "outputdir = path_igp.replace('/GLOBAL', '')+'/stats/'+millesime\n",
    "if(not os.path.isdir(outputdir)):\n",
    "    os.mkdir(outputdir)   \n",
    "    \n",
    "millesime_precedent = str(int(millesime) - 1)\n",
    "\n",
    "if not moisjour:\n",
    "    moisjour = \"12-31\"\n",
    "    if '%s-%s' % (str(int(millesime) + 1), moisjour) > '%04d-%02d-%02d' % ( datetime.now().year, datetime.now().month, datetime.now().day ):\n",
    "        moisjour = '07-31'\n",
    "    \n",
    "date_debut_courant = millesime + '-08-01'\n",
    "date_fin_courant = str(int(millesime) + 1) + '-' + moisjour\n",
    "\n",
    "date_debut_precedent = millesime_precedent + '-08-01'\n",
    "date_fin_precedent = str(int(millesime_precedent) + 1) + '-' + moisjour"
   ]
  },
  {
   "cell_type": "code",
   "execution_count": null,
   "id": "278a5cf7",
   "metadata": {},
   "outputs": [],
   "source": [
    "historique = pd.read_csv(path_igp+ \"/lots-historique.csv\",  encoding=\"iso8859_15\", delimiter=\";\", decimal=\",\", \n",
    "                   dtype={'Campagne': 'str', 'Num dossier': 'str', \n",
    "                          'Num lot': 'str', 'Millésime': 'str'}, low_memory=False)\n",
    "\n",
    "historique = historique[(historique['Origine'] == 'DRev') | (historique['Origine'] == 'DRev:Changé')]\n",
    "historique = historique[((historique['Libellé du lot'].str.contains(\" \" + millesime + \" \")) & (historique['Date commission'] >= date_debut_courant) & (historique['Date commission'] <= date_fin_courant)) | ((historique['Libellé du lot'].str.contains(\" \" + millesime_precedent + \" \")) & (historique['Date commission'] >= date_debut_precedent) & (historique['Date commission'] <= date_fin_precedent))]\n",
    "\n",
    "historique[\"unique_id\"] = historique['Id Opérateur'] + historique['Lot unique Id']\n",
    "\n",
    "historique_conforme_unique_id = historique[(historique['Statut'] == 'Conforme') | (historique['Statut'] == 'Réputé conforme') | (historique['Statut'] == 'Conforme en appel')]['unique_id'].unique()\n",
    "historique_revendique_unique_id = historique['unique_id'].unique()\n",
    "\n",
    "historique = historique.sort_values(by=['Date commission', 'Doc Ordre'], ascending=False)\n",
    "historique = historique.drop_duplicates(subset=['Id Opérateur', 'Lot unique Id'], keep='first')\n",
    "\n",
    "historique_revendique = historique[historique['unique_id'].isin(historique_revendique_unique_id)]\n",
    "historique_conforme = historique[historique['unique_id'].isin(historique_conforme_unique_id)]\n"
   ]
  },
  {
   "cell_type": "code",
   "execution_count": null,
   "id": "4186f16c",
   "metadata": {},
   "outputs": [],
   "source": [
    "lots = pd.read_csv(path_igp+\"/lots.csv\", encoding=\"iso8859_15\", delimiter=\";\", decimal=\",\",\n",
    "                   dtype={'Code postal Opérateur': 'str', 'Campagne': 'str', 'Num dossier': 'str',\n",
    "                          'Num lot': 'str', 'Millésime': 'str'}, low_memory=False)\n",
    "lots['Lieu'].fillna('', inplace=True)\n",
    "lots_revendique = lots.merge(historique_revendique, how='inner', on=['Id Opérateur', 'Lot unique Id'])\n",
    "lots_conforme = lots.merge(historique_conforme, how='inner', on=['Id Opérateur', 'Lot unique Id'])\n"
   ]
  },
  {
   "cell_type": "code",
   "execution_count": null,
   "id": "6ede490a",
   "metadata": {},
   "outputs": [],
   "source": [
    "group = ['Produit', 'Appellation', 'Couleur', 'Lieu']\n",
    "stat_igp = lots_revendique[(lots_revendique['Millésime'] == millesime)].groupby(group)[['Volume_y']].sum().rename(columns={\"Volume_y\": \"VRT \" + millesime})\n",
    "stat_igp['VRT ' + millesime_precedent] = lots_revendique[(lots_revendique['Millésime'] == millesime_precedent)].groupby(group)[['Volume_y']].sum()\n",
    "stat_igp['VRC ' + millesime] = lots_conforme[(lots_conforme['Millésime'] == millesime)].groupby(group)[['Volume_y']].sum()\n",
    "stat_igp['VRC ' + millesime_precedent] = lots_conforme[(lots_conforme['Millésime'] == millesime_precedent)].groupby(group)[['Volume_y']].sum()"
   ]
  },
  {
   "cell_type": "code",
   "execution_count": null,
   "id": "b564c3db",
   "metadata": {},
   "outputs": [],
   "source": [
    "stat_igp.reset_index().to_csv(outputdir+\"/\"+date_fin_courant+\"_\"+millesime+\"_igp_stats_vrc-vrt.csv\", encoding=\"iso8859_15\", sep=\";\", index=False, decimal=\",\")"
   ]
  },
  {
   "cell_type": "code",
   "execution_count": null,
   "id": "5a2ff8b0",
   "metadata": {},
   "outputs": [],
   "source": []
  }
 ],
 "metadata": {
  "kernelspec": {
   "display_name": "Python 3 (ipykernel)",
   "language": "python",
   "name": "python3"
  },
  "language_info": {
   "codemirror_mode": {
    "name": "ipython",
    "version": 3
   },
   "file_extension": ".py",
   "mimetype": "text/x-python",
   "name": "python",
   "nbconvert_exporter": "python",
   "pygments_lexer": "ipython3",
   "version": "3.10.5"
  }
 },
 "nbformat": 4,
 "nbformat_minor": 5
}
