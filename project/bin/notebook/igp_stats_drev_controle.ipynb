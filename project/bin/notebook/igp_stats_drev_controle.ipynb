{
 "cells": [
  {
   "cell_type": "code",
   "execution_count": 8,
   "id": "13fae09c",
   "metadata": {},
   "outputs": [],
   "source": [
    "import pandas as pd\n",
    "import sys\n",
    "import re\n",
    "from datetime import datetime\n",
    "\n",
    "millesime = str(datetime.now().year - 1)\n",
    "\n",
    "if(re.search(\"^[0-9]{4}#\", sys.argv[1])):\n",
    "    millesime = sys.argv[1]\n",
    "    \n",
    "millesime_precedent = str(int(millesime) - 1)\n",
    "\n",
    "moisjour = \"07-31\"\n",
    "    \n",
    "if(re.search(\"^[0-9]{2}-[0-9]{2}#\", sys.argv[2])):\n",
    "    moisjour = sys.argv[2]\n",
    "    \n",
    "date_debut_courant = millesime + '-08-01'\n",
    "date_fin_courant = str(int(millesime) + 1) + '-' + moisjour\n",
    "\n",
    "date_debut_precedent = millesime_precedent + '-08-01'\n",
    "date_fin_precedent = str(int(millesime_precedent) + 1) + '-' + moisjour"
   ]
  },
  {
   "cell_type": "code",
   "execution_count": null,
   "id": "d194b3fe",
   "metadata": {},
   "outputs": [],
   "source": [
    "lots = pd.read_csv(\"../../web/exports_igp/lots.csv\", encoding=\"iso8859_15\", delimiter=\";\", decimal=\",\",\n",
    "                   dtype={'Code postal Opérateur': 'str', 'Campagne': 'str', 'Num dossier': 'str',\n",
    "                          'Num lot': 'str', 'Millésime': 'str'}, low_memory=False)\n",
    "lots['Lieu'].fillna('', inplace=True)"
   ]
  },
  {
   "cell_type": "code",
   "execution_count": null,
   "id": "6e4081bd",
   "metadata": {},
   "outputs": [],
   "source": [
    "lots = lots[(lots['Origine'] == 'DRev') | (lots['Origine'] == 'DRev:Changé')]"
   ]
  },
  {
   "cell_type": "code",
   "execution_count": null,
   "id": "9e913956",
   "metadata": {},
   "outputs": [],
   "source": [
    "lots_courant = lots[(lots['Millésime'] == millesime) & (lots['Date lot'] >= date_debut_courant) & (lots['Date lot'] <= date_fin_courant)]\n",
    "lots_precedent = lots[(lots['Millésime'] == millesime_precedent) & (lots['Date lot'] >= date_debut_precedent) & (lots['Date lot'] <= date_fin_precedent)]"
   ]
  },
  {
   "cell_type": "code",
   "execution_count": null,
   "id": "c84ed6d9",
   "metadata": {},
   "outputs": [],
   "source": [
    "group = ['Produit', 'Appellation', 'Couleur', 'Lieu']\n",
    "\n",
    "stat_igp = lots_courant.groupby(group)[['Volume']].sum().rename(columns={\"Volume\": \"VRT \" + millesime})\n",
    "stat_igp['VRT ' + millesime_precedent] = lots_precedent.groupby(group)[['Volume']].sum()"
   ]
  },
  {
   "cell_type": "code",
   "execution_count": null,
   "id": "9480df28",
   "metadata": {},
   "outputs": [],
   "source": [
    "lots_conformes = lots[(lots['Statut de lot'] == 'Conforme') | (lots['Statut de lot'] == 'Réputé conforme') | (lots['Statut de lot'] == 'Conforme en appel')]\n",
    "lots_conformes_courant = lots_conformes[(lots_conformes['Millésime'] == millesime) & (lots_conformes['Date lot'] >= date_debut_courant) & (lots_conformes['Date lot'] <= date_fin_courant)]\n",
    "lots_conformes_precedent = lots_conformes[(lots_conformes['Millésime'] == millesime_precedent) & (lots_conformes['Date lot'] >= date_debut_precedent) & (lots_conformes['Date lot'] <= date_fin_precedent)]\n",
    "\n",
    "stat_igp['VRC ' + millesime] = lots_conformes_courant.groupby(group)[['Volume']].sum()\n",
    "stat_igp['VRC ' + millesime_precedent] = lots_conformes_precedent.groupby(group)[['Volume']].sum()\n",
    "\n",
    "stat_igp = stat_igp.round({'VRC ' + millesime: 2, 'VRC ' + millesime_precedent: 2,'VRT ' + millesime: 2, 'VRT ' + millesime_precedent: 2})"
   ]
  },
  {
   "cell_type": "code",
   "execution_count": null,
   "id": "57d69b84",
   "metadata": {},
   "outputs": [],
   "source": [
    "stat_igp.reset_index().to_csv(\"../../web/exports_igp/igp_stats_vrc-vrt_2020.csv\", encoding=\"iso8859_15\", sep=\";\", index=False, decimal=\",\")"
   ]
  }
 ],
 "metadata": {
  "kernelspec": {
   "display_name": "Python 3",
   "language": "python",
   "name": "python3"
  },
  "language_info": {
   "codemirror_mode": {
    "name": "ipython",
    "version": 3
   },
   "file_extension": ".py",
   "mimetype": "text/x-python",
   "name": "python",
   "nbconvert_exporter": "python",
   "pygments_lexer": "ipython3",
   "version": "3.9.7"
  }
 },
 "nbformat": 4,
 "nbformat_minor": 5
}
