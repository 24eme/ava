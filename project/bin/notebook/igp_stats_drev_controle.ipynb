{
 "cells": [
  {
   "cell_type": "code",
   "execution_count": null,
   "id": "occasional-pickup",
   "metadata": {},
   "outputs": [],
   "source": [
    "import pandas as pd\n",
    "\n",
    "lots = pd.read_csv(\"../../web/exports_igp/lots.csv\", encoding=\"iso8859_15\", delimiter=\";\", decimal=\",\", \n",
    "                   dtype={'Code postal Opérateur': 'str', 'Campagne': 'str', 'Num dossier': 'str', \n",
    "                          'Num lot': 'str', 'Millésime': 'str'}, low_memory=False)\n",
    "lots['Lieu'].fillna('', inplace=True)\n",
    "#lots.columns"
   ]
  },
  {
   "cell_type": "code",
   "execution_count": null,
   "id": "polar-density",
   "metadata": {},
   "outputs": [],
   "source": [
    "historique = pd.read_csv(\"../../web/exports_igp/lots-historique.csv\", encoding=\"iso8859_15\", delimiter=\";\", decimal=\",\", \n",
    "                   dtype={'Campagne': 'str', 'Num dossier': 'str', \n",
    "                          'Num lot': 'str', 'Millésime': 'str'}, low_memory=False)\n",
    "#historique['Doc Type'].unique()"
   ]
  },
  {
   "cell_type": "code",
   "execution_count": null,
   "id": "manufactured-uniform",
   "metadata": {},
   "outputs": [],
   "source": [
    "uniq_id = historique[ \n",
    "    (historique['Doc Type'] != 'Conditionnement') & \n",
    "    (historique['Doc Type'] != 'Transaction') & \n",
    "    (historique['Campagne'] >= '2019-2020')\n",
    "]['Lot unique Id'].unique()\n",
    "lots = lots[lots['Lot unique Id'].isin(uniq_id)]\n",
    "#lots = lots[lots['Appellation'] == 'MED']"
   ]
  },
  {
   "cell_type": "code",
   "execution_count": null,
   "id": "obvious-union",
   "metadata": {},
   "outputs": [],
   "source": [
    "lots_2020 = lots[(lots['Millésime'] == '2020') & (lots['Date lot'] >= '2020-08-01') & (lots['Date lot'] <= '2021-06-15')]\n",
    "lots_2019 = lots[(lots['Millésime'] == '2019') & (lots['Date lot'] >= '2019-08-01') & (lots['Date lot'] <= '2020-06-15')]\n",
    "\n",
    "#group = ['Produit']\n",
    "group = ['Produit', 'Appellation', 'Couleur', 'Lieu']\n",
    "\n",
    "stat_igp = lots_2020.groupby(group)[['Volume']].sum().rename(columns={\"Volume\": \"VRT 2020\"})\n",
    "stat_igp['VRT 2019'] = lots_2019.groupby(group)[['Volume']].sum()\n",
    "\n",
    "#stat_igp"
   ]
  },
  {
   "cell_type": "code",
   "execution_count": null,
   "id": "matched-brazilian",
   "metadata": {},
   "outputs": [],
   "source": [
    "lots_conformes = lots[(lots['Statut de lot'] == 'Conforme') | (lots['Statut de lot'] == 'Réputé conforme')]\n",
    "lots_conformes_2020 = lots_conformes[(lots_conformes['Millésime'] == '2020') & (lots_conformes['Date lot'] >= '2020-08-01') & (lots_conformes['Date lot'] <= '2021-06-15')]\n",
    "lots_conformes_2019 = lots_conformes[(lots_conformes['Millésime'] == '2019') & (lots_conformes['Date lot'] >= '2019-08-01') & (lots_conformes['Date lot'] <= '2020-06-15')]\n",
    "\n",
    "stat_igp['VRC 2020'] = lots_conformes_2020.groupby(group)[['Volume']].sum()\n",
    "stat_igp['VRC 2019'] = lots_conformes_2019.groupby(group)[['Volume']].sum()\n",
    "\n",
    "#stat_igp"
   ]
  },
  {
   "cell_type": "code",
   "execution_count": null,
   "id": "pleased-albany",
   "metadata": {},
   "outputs": [],
   "source": [
    "stat_igp.reset_index().to_csv(\"../../web/exports_igp/igp_stats_vrc-vrt_2020.csv\", encoding=\"iso8859_15\", sep=\";\", index=False, decimal=\",\")"
   ]
  }
 ],
 "metadata": {
  "kernelspec": {
   "display_name": "Python 3",
   "language": "python",
   "name": "python3"
  },
  "language_info": {
   "codemirror_mode": {
    "name": "ipython",
    "version": 3
   },
   "file_extension": ".py",
   "mimetype": "text/x-python",
   "name": "python",
   "nbconvert_exporter": "python",
   "pygments_lexer": "ipython3",
   "version": "3.9.2"
  }
 },
 "nbformat": 4,
 "nbformat_minor": 5
}
