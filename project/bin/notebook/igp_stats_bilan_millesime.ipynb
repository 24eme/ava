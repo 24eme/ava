{
 "cells": [
  {
   "cell_type": "code",
   "execution_count": null,
   "id": "recovered-prediction",
   "metadata": {},
   "outputs": [],
   "source": [
    "import pandas as pd\n",
    "import sys\n",
    "\n",
    "pd.set_option('display.max_columns', None)\n",
    "\n",
    "dossier_igp = \"exports_\"+sys.argv[1]\n",
    "igp = sys.argv[1].replace('igp',\"\")\n",
    "\n",
    "#dossier_igp = \"exports_igpgascogne\"\n",
    "#igp = \"gascogne\"\n",
    "\n",
    "drev_lots = pd.read_csv(\"../../web/\"+dossier_igp+\"/drev_lots.csv\", encoding=\"iso8859_15\", delimiter=\";\", decimal=\",\", dtype={'Identifiant': 'str', 'Campagne': 'str', 'Siret Opérateur': 'str', 'Code postal Opérateur': 'str', 'Millésime':'str'}, low_memory=False)\n",
    "lots = pd.read_csv(\"../../web/\"+dossier_igp+\"/lots.csv\", encoding=\"iso8859_15\", delimiter=\";\", decimal=\",\", dtype={'Campagne': 'str', 'Millésime':'str'}, index_col=False, low_memory=False)\n",
    "changement_deno = pd.read_csv(\"../../web/\"+dossier_igp+\"/changement_denomination.csv\", encoding=\"iso8859_15\", delimiter=\";\", decimal=\",\", dtype={'Campagne': 'str', 'Millésime':'str','Origine Millésime':'str'}, index_col=False, low_memory=False)\n",
    "    \n",
    "lots = lots[(lots['Origine'] == \"DRev\") | (lots['Origine'] == \"DRev:Changé\") ]\n",
    "drev_lots = drev_lots[drev_lots[\"Type\"] == \"DRev\"]\n",
    "changement_deno = changement_deno[(changement_deno[\"Type\"] == \"DRev\") | (changement_deno[\"Type\"] == \"DRev:Changé\") ]\n"
   ]
  },
  {
   "cell_type": "code",
   "execution_count": null,
   "id": "cultural-primary",
   "metadata": {},
   "outputs": [],
   "source": [
    "drev_lots = drev_lots.rename(columns = {'Date lot': 'Date_lot'})\n",
    "millesime = \"2019\"\n",
    "datemax = \"2021\"\n",
    "drev_lots['Millesime']= millesime\n",
    "drev_lots = drev_lots.query(\"Millésime == @millesime\")\n",
    "drev_lots = drev_lots.query(\"Date_lot < @datemax\")\n",
    "drev_lots['Lieu'] = drev_lots['Lieu'].fillna('')\n",
    "drev_lots = drev_lots.groupby(['Appellation','Couleur','Lieu','Produit'])[[\"Volume\"]].sum()\n",
    "drev_lots ['Type'] = \"VOLUME REVENDIQUE\"\n",
    "drev_lots = drev_lots.reset_index()\n",
    "final = drev_lots"
   ]
  },
  {
   "cell_type": "code",
   "execution_count": null,
   "id": "sustained-bracket",
   "metadata": {},
   "outputs": [],
   "source": [
    "lots = lots.rename(columns = {'Date lot': 'Date_lot'})\n",
    "lots = lots.query(\"Millésime == @millesime\")\n",
    "lots = lots.query(\"Date_lot < @datemax\")\n",
    "\n",
    "conforme = \"Conforme\"\n",
    "rep_conforme = \"Réputé conforme\"\n",
    "#en_recours=\"En recours OC\"\n",
    "\n",
    "lots = lots.rename(columns = {'Statut de lot': 'Statut_de_lot'})\n",
    "lots = lots.query(\"Statut_de_lot != @conforme & Statut_de_lot != @rep_conforme\");      \n",
    "# & Statut_de_lot != @en_recours\n",
    "\n",
    "lots['Lieu'] = lots['Lieu'].fillna('')\n",
    "lots = lots.groupby(['Appellation','Couleur','Lieu','Produit'])[['Volume']].sum()\n",
    "lots ['Type'] = \"VOLUME EN INSTANCE DE CONFORMITE\"\n",
    "lots = lots.reset_index()\n",
    "final = final.append(lots,sort= True)"
   ]
  },
  {
   "cell_type": "code",
   "execution_count": null,
   "id": "essential-dream",
   "metadata": {},
   "outputs": [],
   "source": [
    "changement_denomination = changement_deno\n",
    "changement_denomination['Origine Lieu'] = changement_denomination['Origine Lieu'].fillna('')\n",
    "changement_denomination['Lieu'] = changement_denomination['Lieu'].fillna('')\n",
    "changement_denomination = changement_denomination.rename(columns = {'Origine Millésime': 'Origine_Millésime','Type de changement':'Type_de_changement'})\n",
    "changement_denomination = changement_denomination.query(\"Origine_Millésime == @millesime\")"
   ]
  },
  {
   "cell_type": "code",
   "execution_count": null,
   "id": "worse-operation",
   "metadata": {},
   "outputs": [],
   "source": [
    "type_de_changement = \"DECLASSEMENT\"\n",
    "changement_denomination_declassement = changement_denomination.query(\"Type_de_changement == @type_de_changement\")\n",
    "changement_denomination_declassement = changement_denomination_declassement.groupby(['Origine Appellation','Origine Couleur','Origine Lieu','Origine Produit'])[[\"Volume changé\"]].sum()\n",
    "changement_denomination_declassement  = changement_denomination_declassement.reset_index()\n",
    "changement_denomination_declassement['Type']= 'DECLASSEMENT'\n",
    "changement_denomination_declassement = changement_denomination_declassement.rename(columns = {'Origine Appellation': 'Appellation','Origine Couleur':'Couleur','Origine Lieu':'Lieu','Volume changé':'Volume','Origine Produit':'Produit'})\n",
    "final = final.append(changement_denomination_declassement,sort= True)"
   ]
  },
  {
   "cell_type": "code",
   "execution_count": null,
   "id": "manufactured-detroit",
   "metadata": {},
   "outputs": [],
   "source": [
    "type_de_changement = \"CHANGEMENT\"\n",
    "changement_denomination = changement_denomination.query(\"Type_de_changement == @type_de_changement\")\n",
    "changement_denomination = changement_denomination.groupby(['Origine Appellation','Origine Couleur','Origine Lieu','Origine Produit','Appellation','Couleur','Lieu','Produit'])[[\"Volume changé\"]].sum()\n",
    "changement_denomination = changement_denomination.reset_index()\n",
    "changement_denomination['Type'] = \"CHANGEMENT DENOMINATION SRC = PRODUIT\"\n",
    "changement_denomination = changement_denomination.rename(columns = {'Origine Appellation': 'Appellation','Origine Couleur':'Couleur','Origine Lieu':'Lieu','Volume changé':'Volume','Origine Produit':'Produit','Appellation':'Nv Appellation','Couleur':'Nv Couleur','Lieu':'NV Lieu','Produit':'Nv Produit'})\n",
    "changement_denomination['Libelle'] = str(changement_denomination['Produit'])+' en '+str(changement_denomination['Nv Produit'])\n",
    "changement_denomination = changement_denomination[['Appellation','Couleur','Lieu','Volume','Type','Libelle','Produit']]\n",
    "final = final.append(changement_denomination,sort= True)"
   ]
  },
  {
   "cell_type": "code",
   "execution_count": null,
   "id": "median-singing",
   "metadata": {},
   "outputs": [],
   "source": [
    "changement_deno['Origine Lieu'] = changement_deno['Origine Lieu'].fillna('')\n",
    "changement_deno['Lieu'] = changement_deno['Lieu'].fillna('')\n",
    "changement_deno = changement_deno.rename(columns = {'Origine Millésime': 'Origine_Millésime','Type de changement':'Type_de_changement'})\n",
    "changement_deno = changement_deno.query(\"Origine_Millésime == @millesime\")\n",
    "\n",
    "type_de_changement = \"CHANGEMENT\"\n",
    "\n",
    "changement_deno = changement_deno.query(\"Type_de_changement == @type_de_changement\")\n",
    "changement_deno = changement_deno.groupby(['Appellation','Couleur','Lieu','Produit','Origine Produit','Origine Appellation','Origine Couleur','Origine Lieu'])[[\"Volume changé\"]].sum()\n",
    "changement_deno = changement_deno.reset_index()\n",
    "\n",
    "changement_deno['Type'] = \"CHANGEMENT DENOMINATION DEST = PRODUIT\"\n",
    "changement_deno['Libelle'] = str(changement_deno['Origine Produit'])+' en '+str(changement_deno['Produit'])\n",
    "\n",
    "changement_deno= changement_deno.rename(columns = {'Volume changé':'Volume'})\n",
    "changement_deno = changement_deno[['Appellation','Couleur','Lieu','Volume','Type','Libelle','Produit']]\n",
    "\n",
    "final = final.append(changement_deno,sort= True)"
   ]
  },
  {
   "cell_type": "code",
   "execution_count": null,
   "id": "boring-modeling",
   "metadata": {},
   "outputs": [],
   "source": [
    "final['Millesime'] = millesime\n",
    "final = final[['Millesime','Appellation','Couleur','Lieu','Produit','Type','Libelle','Volume']]\n",
    "final = final.sort_values(by=['Appellation','Couleur','Lieu'])\n",
    "\n",
    "#tableau récapitulatif\n",
    "type_vol_revendique = \"VOLUME REVENDIQUE\"\n",
    "type_instance_conformite = \"VOLUME EN INSTANCE DE CONFORMITE\"\n",
    "type_changement_deno_src_produit = \"CHANGEMENT DENOMINATION SRC = PRODUIT\"\n",
    "type_changement_deno_dest_produit = \"CHANGEMENT DENOMINATION DEST = PRODUIT\"\n",
    "type_declassement = \"DECLASSEMENT\"\n",
    "\n",
    "\n",
    "tab_cal = final.groupby(['Appellation','Lieu','Couleur','Produit'])[[\"Volume\"]].sum()\n",
    "\n",
    "tab_cal['type_vol_revendique'] =  final.query(\"Type == @type_vol_revendique\").groupby(['Appellation','Lieu','Couleur','Produit'])[[\"Volume\"]].sum()\n",
    "tab_cal['type_instance_conformite'] =  final.query(\"Type == @type_instance_conformite\").groupby(['Appellation','Lieu','Couleur','Produit'])[[\"Volume\"]].sum()\n",
    "tab_cal['type_changement_deno_src_produit'] =  final.query(\"Type == @type_changement_deno_src_produit\").groupby(['Appellation','Lieu','Couleur','Produit'])[[\"Volume\"]].sum()\n",
    "tab_cal['type_changement_deno_dest_produit'] =  final.query(\"Type == @type_changement_deno_dest_produit\").groupby(['Appellation','Lieu','Couleur','Produit'])[[\"Volume\"]].sum()\n",
    "tab_cal['type_declassement'] =  final.query(\"Type == @type_declassement\").groupby(['Appellation','Lieu','Couleur','Produit'])[[\"Volume\"]].sum()\n",
    "\n",
    "tab_cal = tab_cal.fillna(0)\n",
    "\n",
    "tab_cal['A'] = tab_cal['type_vol_revendique'] - tab_cal['type_instance_conformite']\n",
    "tab_cal ['B'] = (tab_cal['type_changement_deno_dest_produit'] - tab_cal['type_changement_deno_src_produit'] - tab_cal['type_declassement']) * (-1) \n",
    "tab_cal['A-B'] =  tab_cal['A'] - tab_cal ['B']\n",
    "tab_cal = tab_cal.reset_index(level=['Appellation','Lieu','Couleur','Produit'])\n",
    "\n",
    "tab_cal = tab_cal[['Appellation','Couleur','Lieu','Produit','type_vol_revendique','type_instance_conformite','type_changement_deno_dest_produit','type_changement_deno_src_produit','type_declassement','A','B','A-B']]\n"
   ]
  },
  {
   "cell_type": "code",
   "execution_count": null,
   "id": "dependent-friendship",
   "metadata": {},
   "outputs": [],
   "source": [
    "final.reset_index(drop=True).to_csv('../../web/'+dossier_igp+'/stats/stats_bilan_millesime.csv', encoding=\"iso8859_15\", sep=\";\",index=False,  decimal=\",\")"
   ]
  },
  {
   "cell_type": "code",
   "execution_count": null,
   "id": "emerging-ideal",
   "metadata": {},
   "outputs": [],
   "source": [
    "tab_cal.reset_index(drop=True).to_csv('../../web/'+dossier_igp+'/stats/stats_bilan_millesime_A_B_A-B.csv', encoding=\"iso8859_15\", sep=\";\",index=False,  decimal=\",\")"
   ]
  }
 ],
 "metadata": {
  "kernelspec": {
   "display_name": "Python 3",
   "language": "python",
   "name": "python3"
  },
  "language_info": {
   "codemirror_mode": {
    "name": "ipython",
    "version": 3
   },
   "file_extension": ".py",
   "mimetype": "text/x-python",
   "name": "python",
   "nbconvert_exporter": "python",
   "pygments_lexer": "ipython3",
   "version": "3.9.2"
  }
 },
 "nbformat": 4,
 "nbformat_minor": 5
}
