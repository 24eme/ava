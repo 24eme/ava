{
 "cells": [
  {
   "cell_type": "code",
   "execution_count": 100,
   "id": "boring-estate",
   "metadata": {},
   "outputs": [],
   "source": [
    "import pandas as pd\n",
    "pd.set_option('display.max_columns', None)\n",
    "\n",
    "drev_lots = pd.read_csv(\"../../web/exports_igpgascogne/drev_lots.csv\", encoding=\"iso8859_15\", delimiter=\";\", decimal=\",\", dtype={'Identifiant': 'str', 'Campagne': 'str', 'Siret Opérateur': 'str', 'Code postal Opérateur': 'str', 'Millésime':'str'}, low_memory=False)\n",
    "etablissements = pd.read_csv(\"../../web/exports_igpgascogne/etablissements.csv\", encoding=\"iso8859_15\", delimiter=\";\", decimal=\",\", dtype={'Login': 'str', 'Identifiant etablissement': 'str'}, index_col=False, low_memory=False)\n",
    "societe = pd.read_csv(\"../../web/exports_igpgascogne/societe.csv\", encoding=\"iso8859_15\", delimiter=\";\", decimal=\",\", dtype={'Identifiant': 'str', 'Téléphone' :'str', 'Téléphone portable': 'str'}, index_col=False, low_memory=False)\n",
    "lots = pd.read_csv(\"../../web/exports_igpgascogne/lots.csv\", encoding=\"iso8859_15\", delimiter=\";\", decimal=\",\", index_col=False, low_memory=False)\n"
   ]
  },
  {
   "cell_type": "code",
   "execution_count": 101,
   "id": "hungarian-debut",
   "metadata": {},
   "outputs": [],
   "source": [
    "#print(drev_lots['Date lot'][1] > '2021')\n",
    "drev_lots = drev_lots.rename(columns = {'Date lot': 'Date_lot'})\n",
    "\n",
    "#print(drev_lots)\n"
   ]
  },
  {
   "cell_type": "code",
   "execution_count": 102,
   "id": "young-theater",
   "metadata": {},
   "outputs": [],
   "source": [
    "millesime = \"2019\"\n",
    "datemax = \"2021\"\n",
    "drev_lots = drev_lots.query(\"Millésime == @millesime\");\n",
    "drev_lots = drev_lots.query(\"Date_lot < @datemax\")\n",
    "drev_lots['Lieu'] = drev_lots['Lieu'].fillna('')\n",
    "drev_lots = drev_lots.groupby(['Appellation','Couleur','Lieu'])[[\"Volume\"]].sum()\n",
    "drev_lots = drev_lots.reset_index()"
   ]
  },
  {
   "cell_type": "code",
   "execution_count": 103,
   "id": "sporting-showcase",
   "metadata": {},
   "outputs": [
    {
     "name": "stdout",
     "output_type": "stream",
     "text": [
      "   Appellation     Couleur Lieu     Volume\n",
      "0          CDG       blanc       564897.15\n",
      "1          CDG  blanc_doux        87009.39\n",
      "2          CDG        rose        70679.10\n",
      "3          CDG        rose  CON    6505.00\n",
      "4          CDG       rouge        63751.03\n",
      "5          CDG       rouge  CON    6980.00\n",
      "6          COT       blanc         4671.00\n",
      "7          COT        rose        48088.00\n",
      "8          COT       rouge         5695.50\n",
      "9          GER       blanc        11776.00\n",
      "10         GER        rose           49.00\n",
      "11         GER       rouge          350.00\n"
     ]
    }
   ],
   "source": [
    "print(drev_lots)"
   ]
  }
 ],
 "metadata": {
  "kernelspec": {
   "display_name": "Python 3",
   "language": "python",
   "name": "python3"
  },
  "language_info": {
   "codemirror_mode": {
    "name": "ipython",
    "version": 3
   },
   "file_extension": ".py",
   "mimetype": "text/x-python",
   "name": "python",
   "nbconvert_exporter": "python",
   "pygments_lexer": "ipython3",
   "version": "3.9.2"
  }
 },
 "nbformat": 4,
 "nbformat_minor": 5
}
