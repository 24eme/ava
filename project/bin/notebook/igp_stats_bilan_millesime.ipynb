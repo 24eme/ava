{
 "cells": [
  {
   "cell_type": "code",
   "execution_count": null,
   "id": "stopped-concentrate",
   "metadata": {},
   "outputs": [],
   "source": [
    "import pandas as pd\n",
    "pd.set_option('display.max_columns', None)\n",
    "\n",
    "drev_lots = pd.read_csv(\"../../web/exports_igpgascogne/drev_lots.csv\", encoding=\"iso8859_15\", delimiter=\";\", decimal=\",\", dtype={'Identifiant': 'str', 'Campagne': 'str', 'Siret Opérateur': 'str', 'Code postal Opérateur': 'str', 'Millésime':'str'}, low_memory=False)\n",
    "lots = pd.read_csv(\"../../web/exports_igpgascogne/lots.csv\", encoding=\"iso8859_15\", delimiter=\";\", decimal=\",\", dtype={'Campagne': 'str', 'Millésime':'str'}, index_col=False, low_memory=False)\n",
    "changement_denomination = pd.read_csv(\"../../web/exports_igpgascogne/changement_denomination.csv\", encoding=\"iso8859_15\", delimiter=\";\", decimal=\",\", dtype={'Campagne': 'str', 'Millésime':'str','Origine Millésime':'str'}, index_col=False, low_memory=False)"
   ]
  },
  {
   "cell_type": "code",
   "execution_count": null,
   "id": "enabling-nevada",
   "metadata": {},
   "outputs": [],
   "source": [
    "drev_lots = drev_lots.rename(columns = {'Date lot': 'Date_lot'})\n",
    "millesime = \"2019\"\n",
    "datemax = \"2021\"\n",
    "drev_lots = drev_lots.query(\"Millésime == @millesime\")\n",
    "drev_lots = drev_lots.query(\"Date_lot < @datemax\")\n",
    "drev_lots['Lieu'] = drev_lots['Lieu'].fillna('')\n",
    "drev_lots = drev_lots.groupby(['Appellation','Couleur','Lieu'])[[\"Volume\"]].sum()\n",
    "drev_lots = drev_lots.reset_index()"
   ]
  },
  {
   "cell_type": "code",
   "execution_count": null,
   "id": "imported-kingston",
   "metadata": {},
   "outputs": [],
   "source": [
    "lots = lots.rename(columns = {'Date lot': 'Date_lot'})\n",
    "lots = lots.query(\"Millésime == @millesime\")\n",
    "lots = lots.query(\"Date_lot < @datemax\")\n",
    "\n",
    "conforme = \"Conforme\"\n",
    "rep_conforme = \"Réputé conforme\"\n",
    "#en_recours=\"En recours OC\"\n",
    "\n",
    "lots = lots.rename(columns = {'Statut de lot': 'Statut_de_lot'})\n",
    "lots = lots.query(\"Statut_de_lot != @conforme & Statut_de_lot != @rep_conforme\");      \n",
    "# & Statut_de_lot != @en_recours\n",
    "\n",
    "lots['Lieu'] = lots['Lieu'].fillna('')\n",
    "lots = lots.groupby(['Appellation','Couleur','Lieu'])[['Volume']].sum()\n",
    "lots = lots.reset_index()\n"
   ]
  },
  {
   "cell_type": "code",
   "execution_count": null,
   "id": "spread-edmonton",
   "metadata": {},
   "outputs": [],
   "source": [
    "premier_tab = pd.merge(drev_lots, lots , how='left', left_on = [\"Appellation\",'Couleur','Lieu'], right_on = [\"Appellation\",'Couleur','Lieu'],suffixes=(\"\", \" lots\"))\n",
    "\n",
    "premier_tab['Volume lots'] = premier_tab['Volume lots'].fillna('')\n",
    "premier_tab = premier_tab.rename(columns = {'Volume': 'Volume revendiqué','Volume lots': 'Volume en instance de conformité'})\n"
   ]
  },
  {
   "cell_type": "code",
   "execution_count": null,
   "id": "radio-batman",
   "metadata": {},
   "outputs": [],
   "source": [
    "millesime = \"2019\"\n",
    "\n",
    "changement_denomination['Origine Lieu'] = changement_denomination['Origine Lieu'].fillna('')\n",
    "changement_denomination['Lieu'] = changement_denomination['Lieu'].fillna('')\n",
    "\n",
    "changement_denomination = changement_denomination.rename(columns = {'Origine Millésime': 'Origine_Millésime','Type de changement':'Type_de_changement'})\n",
    "changement_denomination = changement_denomination.query(\"Origine_Millésime == @millesime\")\n",
    "\n",
    "type_de_changement = \"DECLASSEMENT\"\n",
    "changement_denomination_declassement = changement_denomination.query(\"Type_de_changement == @type_de_changement\")\n",
    "\n",
    "changement_denomination_declassement = changement_denomination_declassement.groupby(['Origine Appellation','Origine Couleur','Origine Lieu'])[[\"Volume changé\"]].sum()\n",
    "\n",
    "changement_denomination_declassement  = changement_denomination_declassement.reset_index()\n",
    "\n",
    "type_de_changement = \"CHANGEMENT\"\n",
    "changement_denomination = changement_denomination.query(\"Type_de_changement == @type_de_changement\")\n",
    "\n",
    "changement_denomination = changement_denomination.groupby(['Origine Appellation','Origine Couleur','Origine Lieu','Appellation','Couleur','Lieu'])[[\"Volume changé\"]].sum()\n",
    "\n",
    "changement_denomination = changement_denomination.reset_index()\n",
    "\n",
    "changement_denomination_changement = changement_denomination\n",
    "\n",
    "changement_denomination = pd.merge(changement_denomination,changement_denomination_declassement,how='outer',left_on=['Origine Appellation','Origine Couleur','Origine Lieu'],right_on= ['Origine Appellation','Origine Couleur','Origine Lieu'],suffixes=(\"\", \" declassement\"))\n",
    "\n",
    "deuxieme_tab = pd.merge(changement_denomination, premier_tab, how = 'right',left_on = [\"Origine Appellation\",'Origine Couleur','Origine Lieu'], right_on = [\"Appellation\",'Couleur','Lieu'],suffixes=(\"\", \" source\"))\n",
    "\n",
    "deuxieme_tab = deuxieme_tab.rename(columns = {'Appellation': 'Changement déno DEST Appellation', \"Couleur\":'Changement déno DEST Couleur','Lieu':'Changement déno DEST Lieu'})\n",
    "\n",
    "deuxieme_tab = deuxieme_tab[['Appellation source','Couleur source','Lieu source','Volume revendiqué','Volume en instance de conformité','Changement déno DEST Appellation','Changement déno DEST Couleur','Changement déno DEST Lieu','Volume changé','Volume changé declassement']]\n"
   ]
  },
  {
   "cell_type": "code",
   "execution_count": null,
   "id": "israeli-creature",
   "metadata": {
    "scrolled": true
   },
   "outputs": [],
   "source": [
    "final = pd.merge(deuxieme_tab, changement_denomination_changement, how = 'left',left_on = [\"Appellation source\",'Couleur source','Lieu source'], right_on = [\"Appellation\",'Couleur','Lieu'],suffixes=(\"\", \" en plus\"))\n",
    "\n",
    "final = final.rename(columns = {'Origine Appellation': 'Changement déno SRC Appellation', \"Origine Couleur\":'Changement déno SRC Couleur','Origine Lieu': 'Changement déno SRC Lieu','Volume changé en plus':'Volume en plus provenant du changement de déno','Volume changé' :'Volume en moins dû aux changements de déno'})\n",
    "\n",
    "#colonnes à avoir dans le csv final\n",
    "\n",
    "final = final[['Appellation source','Couleur source','Lieu source','Volume revendiqué','Volume en instance de conformité','Changement déno DEST Appellation','Changement déno DEST Couleur','Changement déno DEST Lieu','Volume en moins dû aux changements de déno','Changement déno SRC Appellation','Changement déno SRC Couleur', 'Changement déno SRC Lieu', 'Volume en plus provenant du changement de déno','Volume changé declassement']]\n",
    "\n",
    "#,'Volume changé declassement'\n",
    "\n",
    "final.reset_index(drop=True).to_csv('../../web/exports/stats_bilan_millessime.csv', encoding=\"iso8859_15\", sep=\";\",index=False,  decimal=\",\")\n"
   ]
  }
 ],
 "metadata": {
  "kernelspec": {
   "display_name": "Python 3",
   "language": "python",
   "name": "python3"
  },
  "language_info": {
   "codemirror_mode": {
    "name": "ipython",
    "version": 3
   },
   "file_extension": ".py",
   "mimetype": "text/x-python",
   "name": "python",
   "nbconvert_exporter": "python",
   "pygments_lexer": "ipython3",
   "version": "3.9.2"
  }
 },
 "nbformat": 4,
 "nbformat_minor": 5
}
