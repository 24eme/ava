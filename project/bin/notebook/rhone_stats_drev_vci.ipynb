{
 "cells": [
  {
   "cell_type": "code",
   "execution_count": null,
   "metadata": {},
   "outputs": [],
   "source": [
    "import pandas as pd\n",
    "drev = pd.read_csv(\"../../web/exports/drev.csv\", encoding=\"iso8859_15\", delimiter=\";\", decimal=\",\",dtype={'CVI Opérateur': 'str', 'Identifiant': 'str','Appellation': 'str','Campagne': 'str'}, low_memory=False)\n",
    "drev_cvg = drev\n",
    "drev_cdr = drev\n",
    "drev = drev[['Appellation','Campagne','VCI Stock précédent', 'VCI Destruction', 'VCI Complément', 'VCI Substitution', 'VCI Rafraichi', 'VCI Constitué', 'VCI Stock final']]\n",
    "drev = drev[drev['Campagne'] == '2020'].fillna(0) \n",
    "drev = drev.query(\"Appellation == 'CVG' or Appellation=='CDR'\") \n",
    "drev = drev.groupby(['Appellation']).sum() \n",
    "total = drev.sum()\n",
    "drev = drev.reset_index() "
   ]
  },
  {
   "cell_type": "code",
   "execution_count": null,
   "metadata": {},
   "outputs": [],
   "source": [
    "drev_cvg = drev_cvg[['Appellation','Produit','Campagne','VCI Stock précédent', 'VCI Destruction', 'VCI Complément', 'VCI Substitution', 'VCI Rafraichi', 'VCI Constitué', 'VCI Stock final']]\n",
    "drev_cvg = drev_cvg[drev_cvg['Campagne'] == '2020'].fillna(0) \n",
    "drev_cvg = drev_cvg.query(\"Appellation == 'CVG'\")   \n",
    "drev_cvg = drev_cvg.drop('Campagne',axis=1)\n",
    "\n",
    "drev_cvg = drev_cvg.groupby(['Appellation','Produit']).sum()\n",
    "drev_cvg = drev_cvg.reset_index()\n",
    "\n",
    "\n",
    "drev = drev.append(drev_cvg)\n",
    "\n",
    "\n",
    "column = drev.pop(\"Appellation\")\n",
    "column_P = drev.pop(\"Produit\")\n",
    "drev.insert(0,'Appellation',column)\n",
    "drev.insert(1,'Produit',column_P)  \n",
    "drev.reset_index(drop=True).to_csv(\"../../web/exports/rhone_stats_drev_VCI.csv\", encoding=\"iso8859_15\", sep=\";\", index=False, decimal=\",\")"
   ]
  },
  {
   "cell_type": "code",
   "execution_count": null,
   "metadata": {},
   "outputs": [],
   "source": [
    "drev_cdr = drev_cdr[['Appellation','Produit','Campagne','VCI Stock précédent', 'VCI Destruction', 'VCI Complément', 'VCI Substitution', 'VCI Rafraichi', 'VCI Constitué', 'VCI Stock final']]\n",
    "drev_cdr = drev_cdr[drev_cdr['Campagne'] == '2020'].fillna(0) \n",
    "drev_cdr = drev_cdr.query(\"Appellation == 'CDR'\")   \n",
    "drev_cdr = drev_cdr.drop('Campagne',axis=1) \n",
    "\n",
    "drev_cdr = drev_cdr.groupby(['Appellation','Produit']).sum()\n",
    "drev_cdr = drev_cdr.reset_index()\n",
    "\n",
    "drev = drev.append(drev_cdr) \n",
    "drev.loc['Total'] = total \n",
    "\n",
    "drev.reset_index(drop=True).to_csv(\"../../web/exports/stats_drev_vci_2020.csv\", encoding=\"iso8859_15\", sep=\";\", index=False, decimal=\",\")"
   ]
  }
 ],
 "metadata": {
  "kernelspec": {
   "display_name": "Python 3",
   "language": "python",
   "name": "python3"
  },
  "language_info": {
   "codemirror_mode": {
    "name": "ipython",
    "version": 3
   },
   "file_extension": ".py",
   "mimetype": "text/x-python",
   "name": "python",
   "nbconvert_exporter": "python",
   "pygments_lexer": "ipython3",
   "version": "3.9.2"
  }
 },
 "nbformat": 4,
 "nbformat_minor": 4
}
